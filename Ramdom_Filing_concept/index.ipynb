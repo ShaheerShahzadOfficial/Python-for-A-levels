{
 "cells": [
  {
   "cell_type": "markdown",
   "metadata": {},
   "source": [
    "# **Creating a .dat File**"
   ]
  },
  {
   "cell_type": "code",
   "execution_count": 6,
   "metadata": {},
   "outputs": [
    {
     "name": "stdout",
     "output_type": "stream",
     "text": [
      "File created successfully.\n"
     ]
    }
   ],
   "source": [
    "# Create a new .dat file and close it immediately to ensure it exists\n",
    "with open(\"random_file.dat\", \"w\") as file:\n",
    "    pass\n",
    "\n",
    "print(\"File created successfully.\")\n"
   ]
  },
  {
   "cell_type": "markdown",
   "metadata": {},
   "source": [
    "# **Explanation of the above code:**\n",
    "\n",
    "**open(\"random_file.dat\", \"wb\"):** Opens a file named random_file.dat in\n",
    "\n",
    "**write-binary mode (\"wb\").** If the file does not exist, it will be created. If it does exist, its contents will be cleared.\n",
    "\n",
    "**pass:** A placeholder that does nothing; it’s used here to open and immediately close the file."
   ]
  },
  {
   "cell_type": "markdown",
   "metadata": {},
   "source": [
    "# **Writing Data at a Specific Position in a .dat File**"
   ]
  },
  {
   "cell_type": "code",
   "execution_count": 15,
   "metadata": {},
   "outputs": [
    {
     "ename": "ValueError",
     "evalue": "whence value 100 unsupported",
     "output_type": "error",
     "traceback": [
      "\u001b[1;31m---------------------------------------------------------------------------\u001b[0m",
      "\u001b[1;31mValueError\u001b[0m                                Traceback (most recent call last)",
      "Cell \u001b[1;32mIn[15], line 9\u001b[0m\n\u001b[0;32m      6\u001b[0m file\u001b[38;5;241m.\u001b[39mwrite(\u001b[38;5;124mb\u001b[39m\u001b[38;5;124m\"\u001b[39m\u001b[38;5;124mThis is some data at the beginning.\u001b[39m\u001b[38;5;130;01m\\n\u001b[39;00m\u001b[38;5;124m\"\u001b[39m)\n\u001b[0;32m      8\u001b[0m \u001b[38;5;66;03m# Seek to another position\u001b[39;00m\n\u001b[1;32m----> 9\u001b[0m \u001b[43mfile\u001b[49m\u001b[38;5;241;43m.\u001b[39;49m\u001b[43mseek\u001b[49m\u001b[43m(\u001b[49m\u001b[38;5;241;43m100\u001b[39;49m\u001b[43m,\u001b[49m\u001b[38;5;241;43m100\u001b[39;49m\u001b[43m)\u001b[49m  \u001b[38;5;66;03m# Go to byte position 100\u001b[39;00m\n\u001b[0;32m     10\u001b[0m \u001b[38;5;66;03m# Write more data\u001b[39;00m\n\u001b[0;32m     11\u001b[0m file\u001b[38;5;241m.\u001b[39mwrite(\u001b[38;5;124mb\u001b[39m\u001b[38;5;124m\"\u001b[39m\u001b[38;5;124mThis is some data at position 100.\u001b[39m\u001b[38;5;130;01m\\n\u001b[39;00m\u001b[38;5;124m\"\u001b[39m)\n",
      "\u001b[1;31mValueError\u001b[0m: whence value 100 unsupported"
     ]
    }
   ],
   "source": [
    "# Open the file in read-write-binary mode\n",
    "with open(\"random_file.dat\", \"r+b\") as file:\n",
    "    # Seek to the position where you want to write\n",
    "    file.seek(0)  # Go to the beginning of the file\n",
    "    # Write data\n",
    "    file.write(b\"This is some data at the beginning.\\n\")\n",
    "\n",
    "    # Seek to another position\n",
    "    file.seek(100)  # Go to byte position 100\n",
    "    # Write more data\n",
    "    file.write(b\"This is some data at position 100.\\n\")\n",
    "\n",
    "print(\"Data written to file successfully.\")\n"
   ]
  },
  {
   "cell_type": "markdown",
   "metadata": {},
   "source": [
    "# **Explanation of the above code:**\n",
    "\n",
    "**open(\"random_file.dat\", \"r+b\"):** Opens the file in read-write-binary mode.\n",
    "\n",
    "**file.seek(0):** Moves the file pointer to the beginning of the file.\n",
    "\n",
    "**file.write(b\"This is some data at the beginning.\\n\"):** Writes binary data to the file.\n",
    "\n",
    "**file.seek(100):** Moves the file pointer to byte position 100.\n",
    "\n",
    "**file.write(b\"This is some data at position 100.\\n\"):** Writes more binary data at the new position."
   ]
  },
  {
   "cell_type": "markdown",
   "metadata": {},
   "source": [
    "# **Appending Data at the End of a .dat File**"
   ]
  },
  {
   "cell_type": "code",
   "execution_count": 4,
   "metadata": {},
   "outputs": [
    {
     "name": "stdout",
     "output_type": "stream",
     "text": [
      "Data appended to file successfully.\n"
     ]
    }
   ],
   "source": [
    "# Open the file in append-binary mode\n",
    "with open(\"random_file.dat\", \"a\") as file:\n",
    "    # Write data\n",
    "    file.write(b\"This data is appended at the end of the file.\\n\")\n",
    "\n",
    "print(\"Data appended to file successfully.\")"
   ]
  },
  {
   "cell_type": "markdown",
   "metadata": {},
   "source": [
    "# **Explanation of the above code:**\n",
    "\n",
    "**open(\"random_file.dat\", \"ab\"):** Opens the file in append-binary mode,\n",
    "positioning the pointer at the end of the file.\n",
    "\n",
    "**file.write(b\"This data is appended at the end of the file.\\n\"):** Appends binary data to the end of the file.\n"
   ]
  },
  {
   "cell_type": "markdown",
   "metadata": {},
   "source": [
    "# **Reading Data from a Specific Position in a .dat File**\n"
   ]
  },
  {
   "cell_type": "code",
   "execution_count": 5,
   "metadata": {},
   "outputs": [
    {
     "name": "stdout",
     "output_type": "stream",
     "text": [
      "Data at the beginning: b'This is some data at the beginni'\n",
      "Data at position 100: b'This is some data at position 10'\n",
      "Data read from file successfully.\n"
     ]
    }
   ],
   "source": [
    "# Open the file in read-binary mode\n",
    "with open(\"random_file.dat\", \"rb\") as file:\n",
    "    # Seek to the position where you want to read\n",
    "    file.seek(0)  # Go to the beginning of the file\n",
    "    # Read data\n",
    "    data = file.read(32)  # Read 32 bytes\n",
    "    print(f\"Data at the beginning: {data}\")\n",
    "\n",
    "    # Seek to another position\n",
    "    file.seek(100)  # Go to byte position 100\n",
    "    # Read more data\n",
    "    data = file.read(32)  # Read 32 bytes\n",
    "    print(f\"Data at position 100: {data}\")\n",
    "\n",
    "print(\"Data read from file successfully.\")\n"
   ]
  },
  {
   "cell_type": "markdown",
   "metadata": {},
   "source": [
    "# **Explanation of the above code:**\n",
    "\n",
    "**open(\"random_file.dat\", \"rb\"):** Opens the file in read-binary mode.\n",
    "\n",
    "**file.seek(0):** Moves the file pointer to the beginning of the file.\n",
    "\n",
    "**file.read(32):** Reads 32 bytes from the current position.\n",
    "\n",
    "**file.seek(100):** Moves the file pointer to byte position 100.\n",
    "\n",
    "**file.read(32):** Reads another 32 bytes from the new position."
   ]
  }
 ],
 "metadata": {
  "kernelspec": {
   "display_name": "Python 3",
   "language": "python",
   "name": "python3"
  },
  "language_info": {
   "codemirror_mode": {
    "name": "ipython",
    "version": 3
   },
   "file_extension": ".py",
   "mimetype": "text/x-python",
   "name": "python",
   "nbconvert_exporter": "python",
   "pygments_lexer": "ipython3",
   "version": "3.12.3"
  }
 },
 "nbformat": 4,
 "nbformat_minor": 2
}
