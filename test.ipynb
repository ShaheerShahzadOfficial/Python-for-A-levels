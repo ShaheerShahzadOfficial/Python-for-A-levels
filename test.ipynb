{
 "cells": [
  {
   "cell_type": "markdown",
   "metadata": {},
   "source": [
    "Question One\n"
   ]
  },
  {
   "cell_type": "code",
   "execution_count": 16,
   "metadata": {},
   "outputs": [
    {
     "name": "stdout",
     "output_type": "stream",
     "text": [
      "12 Is Found At index 5\n",
      "[21, 15, 13, 12, 10, 8, 7, 6, 5, 1]\n"
     ]
    }
   ],
   "source": [
    "global arrayData\n",
    "\n",
    "arrayData = [10, 5, 6, 7, 1, 12, 13, 15, 21, 8]\n",
    "\n",
    "\n",
    "def linearSearch(num):\n",
    "    for i in range(len(arrayData)):\n",
    "        if arrayData[i] == num:\n",
    "            return f'{num} Is Found At index {i}'\n",
    "        elif i == len(arrayData) - 1:\n",
    "            return f\"{num} Doesn't found in the array\"\n",
    "\n",
    "\n",
    "number = int(input(\"Enter Value Which Need To Be Search\"))\n",
    "\n",
    "print(linearSearch(number))\n",
    "\n",
    "\n",
    "def BubbleSort():\n",
    "    n = len(arrayData) - 1\n",
    "    for i in range(n):\n",
    "        for j in range(0, n-i):\n",
    "            if arrayData[j] < arrayData[j + 1]:\n",
    "                arrayData[j+1], arrayData[j] = arrayData[j], arrayData[j+1]\n",
    "\n",
    "\n",
    "BubbleSort()\n",
    "print(arrayData)\n",
    "\n"
   ]
  }
 ],
 "metadata": {
  "kernelspec": {
   "display_name": "Python 3",
   "language": "python",
   "name": "python3"
  },
  "language_info": {
   "codemirror_mode": {
    "name": "ipython",
    "version": 3
   },
   "file_extension": ".py",
   "mimetype": "text/x-python",
   "name": "python",
   "nbconvert_exporter": "python",
   "pygments_lexer": "ipython3",
   "version": "3.12.0"
  }
 },
 "nbformat": 4,
 "nbformat_minor": 2
}
