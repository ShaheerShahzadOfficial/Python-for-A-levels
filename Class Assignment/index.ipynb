{
 "cells": [
  {
   "cell_type": "markdown",
   "metadata": {},
   "source": [
    "# ***question 1.***\n"
   ]
  },
  {
   "cell_type": "code",
   "execution_count": 74,
   "metadata": {},
   "outputs": [
    {
     "name": "stdout",
     "output_type": "stream",
     "text": [
      "10 and 15\n",
      "25\n",
      "26\n",
      "27\n",
      "28\n",
      "29\n",
      "32\n",
      "10 and 10\n",
      "1\n",
      "15 and 10\n",
      "25\n",
      "24\n",
      "23\n",
      "22\n",
      "21\n",
      "0\n"
     ]
    }
   ],
   "source": [
    "def Unknown(x, y):\n",
    "    if x < y:\n",
    "        print(x+y)\n",
    "        return (Unknown(x+1, y)*2)\n",
    "    else:\n",
    "        if y == x:\n",
    "            return 1\n",
    "        else:\n",
    "            print(x+y)\n",
    "            return (Unknown(x-1, y)//2)\n",
    "        \n",
    "\n",
    "print(\"10 and 15\")         \n",
    "print(Unknown(10, 15))\n",
    "print(\"10 and 10\") \n",
    "print(Unknown(10, 10))\n",
    "print(\"15 and 10\") \n",
    "print(Unknown(15, 10))     "
   ]
  },
  {
   "cell_type": "code",
   "execution_count": 80,
   "metadata": {},
   "outputs": [
    {
     "name": "stdout",
     "output_type": "stream",
     "text": [
      "10 and 15\n",
      "25\n",
      "26\n",
      "27\n",
      "28\n",
      "29\n",
      "32\n",
      "10 and 10\n",
      "1\n",
      "15 and 10\n",
      "25\n",
      "24\n",
      "23\n",
      "22\n",
      "21\n",
      "0\n"
     ]
    }
   ],
   "source": [
    "# part 1 c\n",
    "\n",
    "def IterativeUnknown(x,y):\n",
    "    Total = 1\n",
    "    while x != y:\n",
    "        print(f'{str(x + y)}') \n",
    "        if x < y:\n",
    "            x+=1\n",
    "            Total =  Total*2\n",
    "        else:\n",
    "            x-=1\n",
    "            Total =  Total//2\n",
    "    return Total\n",
    "\n",
    "print(\"10 and 15\")         \n",
    "print(IterativeUnknown(10, 15))\n",
    "print(\"10 and 10\") \n",
    "print(IterativeUnknown(10, 10))\n",
    "print(\"15 and 10\") \n",
    "print(IterativeUnknown(15, 10)) "
   ]
  }
 ],
 "metadata": {
  "kernelspec": {
   "display_name": "Python 3",
   "language": "python",
   "name": "python3"
  },
  "language_info": {
   "codemirror_mode": {
    "name": "ipython",
    "version": 3
   },
   "file_extension": ".py",
   "mimetype": "text/x-python",
   "name": "python",
   "nbconvert_exporter": "python",
   "pygments_lexer": "ipython3",
   "version": "3.12.0"
  }
 },
 "nbformat": 4,
 "nbformat_minor": 2
}
