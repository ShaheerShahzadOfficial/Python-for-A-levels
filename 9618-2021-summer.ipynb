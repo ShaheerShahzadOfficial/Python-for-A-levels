{
 "cells": [
  {
   "cell_type": "code",
   "execution_count": 31,
   "metadata": {},
   "outputs": [
    {
     "name": "stdout",
     "output_type": "stream",
     "text": [
      "data: 1, NextNode: 1\n",
      "data: 5, NextNode: 4\n",
      "data: 2, NextNode: 2\n",
      "data: 6, NextNode: 7\n",
      "data: 56, NextNode: 3\n",
      "data: 7, NextNode: -1\n"
     ]
    },
    {
     "name": "stdout",
     "output_type": "stream",
     "text": [
      "Item added successfully\n",
      "data: 1, NextNode: 1\n",
      "data: 5, NextNode: 4\n",
      "data: 2, NextNode: 2\n",
      "data: 6, NextNode: 7\n",
      "data: 56, NextNode: 3\n",
      "data: 7, NextNode: 5\n",
      "data: data, NextNode: -1\n"
     ]
    }
   ],
   "source": [
    "class node:\n",
    "    def __init__(self, data, nextNode):\n",
    "        self.data = data\n",
    "        self.nextNode = nextNode\n",
    "\n",
    "\n",
    "linkedList = [\n",
    "    node(1, 1),\n",
    "    node(5, 4),\n",
    "    node(6, 7),\n",
    "    node(7, -1),\n",
    "    node(2, 2),\n",
    "    node(0, 6),\n",
    "    node(0, 8),\n",
    "    node(56, 3),\n",
    "    node(0, 9),\n",
    "    node(0, -1),\n",
    "]\n",
    "\n",
    "startPointer = 0\n",
    "\n",
    "emptyList = 5\n",
    "\n",
    "\n",
    "def outputNodes(list, startPointer):\n",
    "    while startPointer != -1:\n",
    "        print(f\"data: {list[startPointer].data}, NextNode: {\n",
    "              list[startPointer].nextNode}\")\n",
    "        startPointer = list[startPointer].nextNode\n",
    "\n",
    "\n",
    "def addNode(linkedList, startPointer, emptyList):\n",
    "\n",
    "    if emptyList > 9:\n",
    "        return False\n",
    "\n",
    "    data = input(\"Enter data\")\n",
    "\n",
    "    # newNode = node(data=data, nextNode=-1)\n",
    "    linkedList[emptyList].data = data\n",
    "    linkedList[emptyList].nextNode = -1\n",
    "    # linkedList[emptyList-1].nextNode = emptyList\n",
    "    while linkedList[startPointer].nextNode != -1:\n",
    "        startPointer = linkedList[startPointer].nextNode\n",
    "    linkedList[startPointer].nextNode = emptyList\n",
    "    return True\n",
    "\n",
    "\n",
    "outputNodes(linkedList, startPointer)\n",
    "\n",
    "result = addNode(linkedList, startPointer, emptyList)\n",
    "if result:\n",
    "    print(\"Item added successfully\")\n",
    "else:\n",
    "    print(\"Item not added, list full\")\n",
    "outputNodes(linkedList, startPointer)"
   ]
  },
  {
   "cell_type": "markdown",
   "metadata": {},
   "source": [
    "# **_Question 2_**\n"
   ]
  },
  {
   "cell_type": "code",
   "execution_count": 30,
   "metadata": {},
   "outputs": [
    {
     "name": "stdout",
     "output_type": "stream",
     "text": [
      "10 was found\n",
      "[21, 15, 13, 12, 10, 8, 7, 6, 5, 1]\n"
     ]
    }
   ],
   "source": [
    "# ***part 2(a)***\n",
    "global arrayData\n",
    "arrayData = [10, 5, 6, 7, 1, 12, 13, 15, 21, 8]\n",
    "\n",
    "# ***part 2(b)***\n",
    "\n",
    "def linearSearch(number_to_search):\n",
    "    for index in range(0, len(arrayData)):\n",
    "        if arrayData[index] == number_to_search:\n",
    "            # print(f\"Item Found At index {index}\")\n",
    "            return True\n",
    "            \n",
    "    else:\n",
    "       return False\n",
    "    \n",
    "number_to_search = int(input('Enter the integer value you want to search'))\n",
    "\n",
    "result = linearSearch(number_to_search)\n",
    "\n",
    "if result:\n",
    "  print(f\"{number_to_search} was found\")\n",
    "else:\n",
    "   print(f\"{number_to_search} not found in the List\")  \n",
    "\n",
    "# ***part 2(c)***\n",
    "\n",
    "def bubbleSort ():\n",
    "    limit = len(arrayData) - 1\n",
    "    swapped = False\n",
    "    for x in range(limit):\n",
    "        for y in range(limit - x):\n",
    "            if arrayData[y+1] > arrayData[y]:\n",
    "                swapped = True\n",
    "                arrayData[y+1], arrayData[y] = arrayData[y], arrayData[y+1]\n",
    "        if not swapped:\n",
    "            return\n",
    "    return print(arrayData)   \n",
    "bubbleSort()\n",
    "   "
   ]
  },
  {
   "cell_type": "markdown",
   "metadata": {},
   "source": [
    "# ***OOPs***"
   ]
  },
  {
   "cell_type": "code",
   "execution_count": null,
   "metadata": {},
   "outputs": [],
   "source": [
    "\n",
    "class TreasureChest:\n",
    "    def __init__(self, question, answer, maxPoint):\n",
    "        self.question = question\n",
    "        self.answer = answer\n",
    "        self.maxPoint = maxPoint\n",
    "\n",
    "    def getQuestion(self):\n",
    "        print(self.question)\n",
    "\n",
    "    def checkAnswer(self, answer):\n",
    "        if self.answer == answer:\n",
    "            return True\n",
    "        else:\n",
    "            return False\n",
    "\n",
    "    def reward(self, numberOfAttempt):\n",
    "        return self.maxPoint // numberOfAttempt\n",
    "\n",
    "\n",
    "arrayOfQuest = [\n",
    "    TreasureChest(\"2+2\", 4, 10),\n",
    "    TreasureChest(\"2/2\", 1, 10),\n",
    "    TreasureChest(\"what comes after 720\", 1080, 1000),\n",
    "]\n",
    "number_of_attempts = 1\n",
    "\n",
    "for item in range(len(arrayOfQuest)):\n",
    "    \n",
    "    arrayOfQuest[item].getQuestion()\n",
    "    answer = int(input(\"Enter your answer: \"))\n",
    "    result = arrayOfQuest[item].checkAnswer(answer)\n",
    "    if result:\n",
    "        arrayOfQuest[item].reward(number_of_attempts)\n",
    "        print(f\"Your point is {arrayOfQuest[item].reward(number_of_attempts)}\")\n",
    "    else:\n",
    "        number_of_attempts += 1"
   ]
  }
 ],
 "metadata": {
  "kernelspec": {
   "display_name": "Python 3",
   "language": "python",
   "name": "python3"
  },
  "language_info": {
   "codemirror_mode": {
    "name": "ipython",
    "version": 3
   },
   "file_extension": ".py",
   "mimetype": "text/x-python",
   "name": "python",
   "nbconvert_exporter": "python",
   "pygments_lexer": "ipython3",
   "version": "3.12.0"
  }
 },
 "nbformat": 4,
 "nbformat_minor": 2
}
