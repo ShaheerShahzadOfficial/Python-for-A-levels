{
 "cells": [
  {
   "cell_type": "code",
   "execution_count": 37,
   "metadata": {},
   "outputs": [
    {
     "name": "stdout",
     "output_type": "stream",
     "text": [
      "Shaheer is of Height 6 ft\n"
     ]
    }
   ],
   "source": [
    "class Person:\n",
    "    def __init__(self, name, height):\n",
    "        self.name = name\n",
    "        self.height = height\n",
    "\n",
    "    def greet(self):\n",
    "        print(f\"{self.name} is of Height {self.height} ft\")\n",
    "\n",
    "\n",
    "name = input(\"Enter Name\")\n",
    "height = int(input(\"Height in feet\"))\n",
    "\n",
    "p1 = Person(name, height)\n",
    "\n",
    "p1.greet()"
   ]
  },
  {
   "cell_type": "code",
   "execution_count": 38,
   "metadata": {},
   "outputs": [
    {
     "name": "stdout",
     "output_type": "stream",
     "text": [
      "Key: 5 , Value: 0\n",
      "Key: 6 , Value: 0\n",
      "Key: 8 , Value: 0\n",
      "Key: 9 , Value: 0\n",
      "Printing Non Zero List Search\n",
      "Key: 0 , Value: 1\n",
      "Key: 1 , Value: 5\n",
      "Key: 4 , Value: 2\n",
      "Key: 2 , Value: 6\n",
      "Key: 7 , Value: 56\n",
      "Key: 3 , Value: 7\n"
     ]
    }
   ],
   "source": [
    "class Node:\n",
    "    def __init__(self, data, nextNode):\n",
    "        self.data = data\n",
    "        self.nextNode = nextNode\n",
    "\n",
    "\n",
    "linkedList = [\n",
    "    Node(1, 1), Node(5, 4), Node(6, 7), Node(7, -1),\n",
    "    Node(2, 2), Node(0, 6), Node(0, 8),\n",
    "    Node(56, 3), Node(0, 9), Node(0, -1),\n",
    "]\n",
    "\n",
    "startPointer = 0\n",
    "emptyList = 5\n",
    "\n",
    "\n",
    "def sequentialEmptyListSearch(linkedList, emptyList):\n",
    "    while emptyList != len(linkedList) and emptyList != -1:\n",
    "        if linkedList[emptyList].data == 0:\n",
    "            # print(linkedList[emptyList])\n",
    "         print(f'Key: {emptyList} , Value: {linkedList[emptyList].data}')\n",
    "         emptyList = linkedList[emptyList].nextNode\n",
    "\n",
    "\n",
    "def sequentialNonZeroListSearch(linkedList, startPointer):\n",
    "    print('Printing Non Zero List Search')\n",
    "    while startPointer!= len(linkedList) and startPointer!= -1:\n",
    "        if linkedList[startPointer].data != 0:\n",
    "            print(f'Key: {startPointer} , Value: {linkedList[startPointer].data}')\n",
    "            startPointer = linkedList[startPointer].nextNode\n",
    "\n",
    "\n",
    "\n",
    "sequentialEmptyListSearch(linkedList, emptyList)\n",
    "\n",
    "sequentialNonZeroListSearch(linkedList, startPointer)"
   ]
  }
 ],
 "metadata": {
  "kernelspec": {
   "display_name": "Python 3",
   "language": "python",
   "name": "python3"
  },
  "language_info": {
   "codemirror_mode": {
    "name": "ipython",
    "version": 3
   },
   "file_extension": ".py",
   "mimetype": "text/x-python",
   "name": "python",
   "nbconvert_exporter": "python",
   "pygments_lexer": "ipython3",
   "version": "3.12.0"
  }
 },
 "nbformat": 4,
 "nbformat_minor": 2
}
