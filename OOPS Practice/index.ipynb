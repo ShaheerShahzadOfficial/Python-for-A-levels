{
 "cells": [
  {
   "cell_type": "markdown",
   "metadata": {},
   "source": [
    "**part A**"
   ]
  },
  {
   "cell_type": "code",
   "execution_count": 70,
   "metadata": {},
   "outputs": [],
   "source": [
    "class Employee:\n",
    "    #self.__HourlyPay single\n",
    "    #self.__EmployeeNumber string\n",
    "    #self.__JobTitle string \n",
    "    def __init__(self,EmployeeNumber,HourlyPay,JobTitle):\n",
    "        self.__EmployeeNumber = EmployeeNumber\n",
    "        self.__HourlyPay = HourlyPay\n",
    "        self.__JobTitle = JobTitle\n",
    "        self.__PayYear2022 = []\n",
    "        for x in range(0, 52):\n",
    "         self.__PayYear2022.append(0.00)\n",
    "\n",
    " "
   ]
  },
  {
   "cell_type": "markdown",
   "metadata": {},
   "source": [
    "**part B**"
   ]
  },
  {
   "cell_type": "code",
   "execution_count": 71,
   "metadata": {},
   "outputs": [],
   "source": [
    "class Employee:\n",
    "    def __init__(self,EmployeeNumber,HourlyPay,JobTitle):\n",
    "        self.__EmployeeNumber = EmployeeNumber\n",
    "        self.__HourlyPay = HourlyPay\n",
    "        self.__JobTitle = JobTitle\n",
    "        self.__PayYear2022 = []\n",
    "        for x in range(0, 52):\n",
    "         self.__PayYear2022.append(0.00)\n",
    "\n",
    "    def getEmployeeNumber(self):\n",
    "        return self.__EmployeeNumber\n"
   ]
  },
  {
   "cell_type": "markdown",
   "metadata": {},
   "source": [
    "**part C**"
   ]
  },
  {
   "cell_type": "code",
   "execution_count": 72,
   "metadata": {},
   "outputs": [],
   "source": [
    "class Employee:\n",
    "    def __init__(self,EmployeeNumber,HourlyPay,JobTitle):\n",
    "        self.__EmployeeNumber = EmployeeNumber\n",
    "        self.__HourlyPay = HourlyPay\n",
    "        self.__JobTitle = JobTitle\n",
    "        self.__PayYear2022 = []\n",
    "        for x in range(0, 52):\n",
    "         self.__PayYear2022.append(0.00)\n",
    "\n",
    "    def getEmployeeNumber(self):\n",
    "        return self.__EmployeeNumber\n",
    "    def SetPay(self,weekNumber,Hours):\n",
    "        self.__PayYear2022[weekNumber-1] = Hours * self.__HourlyPay\n",
    "    def GetTotalPay(self):\n",
    "        Total = 0\n",
    "        for x in range(0,52):\n",
    "         Total +=self.__PayYear2022[x]\n",
    "        return Total"
   ]
  },
  {
   "cell_type": "code",
   "execution_count": 73,
   "metadata": {},
   "outputs": [
    {
     "data": {
      "text/plain": [
       "800.0"
      ]
     },
     "execution_count": 73,
     "metadata": {},
     "output_type": "execute_result"
    }
   ],
   "source": [
    "employee1 = Employee(10,10,\"Sales Executive\")\n",
    "\n",
    "employee1.SetPay(10,30)\n",
    "employee1.SetPay(1,40)\n",
    "employee1.SetPay(2,10)\n",
    "\n",
    "employee1.GetTotalPay()"
   ]
  },
  {
   "cell_type": "code",
   "execution_count": 74,
   "metadata": {},
   "outputs": [],
   "source": [
    "class Manager(Employee):\n",
    "     #BonusValue single \n",
    "    def __init__(self,EmployeeNumber,HourlyPay,JobTitle,Bonus):\n",
    "        super().__init__(EmployeeNumber,HourlyPay,JobTitle)\n",
    "        self.__Bonus = Bonus\n",
    "    def SetPay(self, WeekNumber, Hours):\n",
    "       Hours = Hours * (1 + self.__Bonus / 100)\n",
    "    #    print(Hours, (1 + self.__Bonus / 100))\n",
    "       super().SetPay(WeekNumber, Hours) \n",
    "\n",
    "\n",
    "\n",
    "manager1 = Manager(122,10,'Manager',10)\n",
    "\n",
    "manager1.SetPay(10,30)        "
   ]
  },
  {
   "cell_type": "code",
   "execution_count": 75,
   "metadata": {},
   "outputs": [],
   "source": [
    "global EmployeeArray \n",
    "\n",
    "EmployeeArray = []\n",
    "\n",
    "Pay = 0.00\n",
    "ID = \"\"\n",
    "Bonus = 0.00\n",
    "Title = \"\"\n",
    "Temp = \"\"\n",
    "try:\n",
    " TextFile = \"Employees.txt\"\n",
    " File = open(TextFile, 'r')\n",
    " for x in range(0, 8):\n",
    "  Pay = float(File.readline())\n",
    "  ID = File.readline()\n",
    "  Temp = File.readline()\n",
    "#   print(type(float(Temp)) == \"<class 'float'>\",Temp)\n",
    "  try:\n",
    "     Bonus = float(Temp)\n",
    "     Title = File.readline()\n",
    "     EmployeeArray.append(Manager(ID,Pay,Title,Bonus))\n",
    "  except:\n",
    "     Title = Temp\n",
    "     EmployeeArray.append(Employee(ID,Pay,Title))\n",
    "#   if type(Temp) == 'float':\n",
    "#       Bonus = float(Temp)\n",
    "#       Title = File.readline()\n",
    "#       EmployeeArray.append(Manager(ID,Pay,Title,Bonus))\n",
    "#   else:\n",
    "#      Title = Temp\n",
    "#      EmployeeArray.append(Employee(ID,Pay,Title))\n",
    "#      File.readline()    \n",
    " \n",
    "\n",
    "\n",
    "except IOError :\n",
    " print(\"File Not Found\")\n",
    "\n",
    "\n"
   ]
  },
  {
   "cell_type": "code",
   "execution_count": 76,
   "metadata": {},
   "outputs": [],
   "source": [
    "def  EnterHours():\n",
    " try:\n",
    "    fileName = \"HoursWeek1.txt\"\n",
    "    with open(fileName, \"r\") as file:\n",
    "\n",
    "     for i in range(8):\n",
    "      employeeNumber = file.readline()\n",
    "      hours = float(file.readline())\n",
    "    #  print(employeeNumber,hours)\n",
    "      for j in range(len(EmployeeArray)):\n",
    "         if employeeNumber == EmployeeArray[j].getEmployeeNumber():\n",
    "             EmployeeArray[j].SetPay(1,hours)\n",
    "             break\n",
    " except IOError:\n",
    "    print(\"File Not Found\")        \n",
    "         \n",
    "\n",
    "\n",
    "EnterHours()\n",
    "   "
   ]
  },
  {
   "cell_type": "code",
   "execution_count": 78,
   "metadata": {},
   "outputs": [
    {
     "name": "stdout",
     "output_type": "stream",
     "text": [
      "21548, 890.0\n",
      "12452, 730.5600000000001\n",
      "51947, 1216.1408999999999\n",
      "82610, 502.075\n",
      "02586, 674.915625\n",
      "65912, 475.0\n",
      "42004, 768.5955\n",
      "51847, 339.5925\n"
     ]
    }
   ],
   "source": [
    "try:\n",
    "    fileName = \"HoursWeek1.txt\"\n",
    "    with open(fileName, \"r\") as file:\n",
    "\n",
    "     for i in range(8):\n",
    "      employeeNumber = file.readline()\n",
    "      hours = float(file.readline())\n",
    "    #  print(employeeNumber,hours)\n",
    "      for j in range(len(EmployeeArray)):\n",
    "         if employeeNumber == EmployeeArray[j].getEmployeeNumber():\n",
    "             print(f\"{EmployeeArray[j].getEmployeeNumber().split('\\n')[0]}, {EmployeeArray[j].GetTotalPay()}\")\n",
    "             break\n",
    "except IOError:\n",
    "  print(\"File Not Found\")        \n",
    "         \n",
    "\n"
   ]
  }
 ],
 "metadata": {
  "kernelspec": {
   "display_name": "Python 3",
   "language": "python",
   "name": "python3"
  },
  "language_info": {
   "codemirror_mode": {
    "name": "ipython",
    "version": 3
   },
   "file_extension": ".py",
   "mimetype": "text/x-python",
   "name": "python",
   "nbconvert_exporter": "python",
   "pygments_lexer": "ipython3",
   "version": "3.12.3"
  }
 },
 "nbformat": 4,
 "nbformat_minor": 2
}
