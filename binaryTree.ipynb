{
 "cells": [
  {
   "cell_type": "code",
   "execution_count": 6,
   "metadata": {},
   "outputs": [
    {
     "name": "stdout",
     "output_type": "stream",
     "text": [
      "The Number 58 is Found At index 5\n"
     ]
    }
   ],
   "source": [
    "row, col = 20, 3\n",
    "\n",
    "array = [[-1] * col for _ in range(row)]\n",
    "\n",
    "FreeNode = 6\n",
    "RootPointer = 0\n",
    "\n",
    "array[0][0] = 1\n",
    "array[0][1] = 20\n",
    "array[0][2] = 5\n",
    "\n",
    "\n",
    "array[1][0] = 2\n",
    "array[1][1] = 15\n",
    "\n",
    "\n",
    "array[2][1] = 3\n",
    "array[2][2] = 3\n",
    "\n",
    "\n",
    "array[3][1] = 9\n",
    "array[3][2] = 4\n",
    "\n",
    "\n",
    "array[4][1] = 10\n",
    "\n",
    "array[5][1] = 58\n",
    "\n",
    "\n",
    "def SearchValue(Root, ValueToFind):\n",
    "\n",
    "    if Root == -1:\n",
    "        return -1\n",
    "\n",
    "    elif array[Root][1] == ValueToFind:\n",
    "        return Root\n",
    "    \n",
    "    elif array[Root][1] == -1:\n",
    "        return -1\n",
    "\n",
    "    if array[Root][1] > ValueToFind:\n",
    "        return SearchValue(array[Root][0], ValueToFind)\n",
    "\n",
    "    if array[Root][1] < ValueToFind:\n",
    "        return SearchValue(array[Root][2], ValueToFind)\n",
    "\n",
    "result = SearchValue(RootPointer, 58)\n",
    "if result != -1:\n",
    "  print(f\"The Number {array[result][1]} is Found At index {result}\")\n",
    "else:\n",
    "  print('Value not found')"
   ]
  },
  {
   "cell_type": "code",
   "execution_count": 17,
   "metadata": {},
   "outputs": [
    {
     "name": "stdout",
     "output_type": "stream",
     "text": [
      "[[1, 50, 4], [2, 25, 3], [-1, 3, -1], [-1, 9, -1], [-1, 60, -1], [-1, -1, -1], [-1, -1, -1], [-1, -1, -1], [-1, -1, -1], [-1, -1, -1], [-1, -1, -1], [-1, -1, -1], [-1, -1, -1], [-1, -1, -1], [-1, -1, -1], [-1, -1, -1], [-1, -1, -1], [-1, -1, -1], [-1, -1, -1], [-1, -1, -1]]\n",
      "Post Ordering List\n",
      "3\n",
      "9\n",
      "25\n",
      "60\n",
      "50\n",
      "Inordering list\n",
      "3\n",
      "25\n",
      "9\n",
      "50\n",
      "60\n"
     ]
    }
   ],
   "source": [
    "row, col = 20, 3\n",
    "\n",
    "tree = [[-1] * col for _ in range(row)]\n",
    "\n",
    "tree[0][0] = 1\n",
    "tree[0][1] = 50\n",
    "tree[0][2] = 4\n",
    "\n",
    "tree[1][0] = 2\n",
    "tree[1][1] = 25\n",
    "tree[1][2] = 3\n",
    "\n",
    "tree[2][1] = 3\n",
    "\n",
    "tree[3][1] = 9\n",
    "\n",
    "tree[4][1] = 60\n",
    "\n",
    "\n",
    "RootPointer = 0\n",
    "FreeNode = 5\n",
    "\n",
    "print(\"Post Ordering List\")\n",
    "\n",
    "def PostOrder(Root):\n",
    "    if Root == -1:\n",
    "      return\n",
    "    else:\n",
    "      PostOrder(tree[Root][0])\n",
    "      PostOrder(tree[Root][2])\n",
    "\n",
    "      print(tree[Root][1])\n",
    "    \n",
    "PostOrder(RootPointer)\n",
    "\n",
    "\n",
    "print(\"Inordering list\")\n",
    "\n",
    "def InOrder(Root):\n",
    "    if Root == -1:\n",
    "      return\n",
    "    else:\n",
    "      InOrder(tree[Root][0])\n",
    "      print(tree[Root][1])\n",
    "      InOrder(tree[Root][2])\n",
    "\n",
    "    \n",
    "InOrder(RootPointer)"
   ]
  },
  {
   "cell_type": "code",
   "execution_count": null,
   "metadata": {},
   "outputs": [],
   "source": []
  }
 ],
 "metadata": {
  "kernelspec": {
   "display_name": "Python 3",
   "language": "python",
   "name": "python3"
  },
  "language_info": {
   "codemirror_mode": {
    "name": "ipython",
    "version": 3
   },
   "file_extension": ".py",
   "mimetype": "text/x-python",
   "name": "python",
   "nbconvert_exporter": "python",
   "pygments_lexer": "ipython3",
   "version": "3.12.0"
  }
 },
 "nbformat": 4,
 "nbformat_minor": 2
}
