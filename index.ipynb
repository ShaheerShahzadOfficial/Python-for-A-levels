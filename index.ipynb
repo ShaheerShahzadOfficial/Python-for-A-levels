{
 "cells": [
  {
   "cell_type": "markdown",
   "metadata": {},
   "source": [
    "**Generate Five Number And Print the product of first three and ratio of last two**\n"
   ]
  },
  {
   "cell_type": "code",
   "execution_count": 1,
   "metadata": {},
   "outputs": [
    {
     "name": "stdout",
     "output_type": "stream",
     "text": [
      "29\n",
      "38\n",
      "99\n",
      "47\n",
      "47\n",
      "The product of the first three numbers is: 109098\n",
      "The Ratio of the Last two numbers is: 1.0\n"
     ]
    }
   ],
   "source": [
    "import random\n",
    "\n",
    "# arr = [0,0,0,0,0]\n",
    "\n",
    "# for i in range(len(arr)):\n",
    "#     a = random.randint(1, 100)\n",
    "#     arr[i] = a\n",
    "\n",
    "product = 1\n",
    "ratio = 1\n",
    "\n",
    "for k in range(5):\n",
    "    num = random.randint(1, 100)\n",
    "    print(num)\n",
    "    if k < 3:\n",
    "        product = product * num\n",
    "    else:\n",
    "        if k == 3:\n",
    "            ratio = num\n",
    "        else:\n",
    "            ratio = ratio / num\n",
    "\n",
    "# for j in range(len(arr)):\n",
    "#     if j < 3:\n",
    "#         product = product * arr[j]\n",
    "#     else:\n",
    "#         if j == 3:\n",
    "#          ratio = arr[j]\n",
    "#         else:\n",
    "#           ratio = ratio / arr[j]\n",
    "\n",
    "\n",
    "# print(\"Array Values\",arr)\n",
    "print(\"The product of the first three numbers is:\", product)\n",
    "print(\"The Ratio of the Last two numbers is:\", ratio)"
   ]
  },
  {
   "cell_type": "code",
   "execution_count": 2,
   "metadata": {},
   "outputs": [
    {
     "name": "stdout",
     "output_type": "stream",
     "text": [
      "Array Values [19, 28, 54, 85, 54]\n",
      "The product of the first three numbers is: 28728\n",
      "The Ratio of the Last two numbers is: 1.5740740740740742\n"
     ]
    }
   ],
   "source": [
    "import random\n",
    "\n",
    "arr = [0, 0, 0, 0, 0]\n",
    "\n",
    "for i in range(len(arr)):\n",
    "    a = random.randint(1, 100)\n",
    "    arr[i] = a\n",
    "\n",
    "product = 1\n",
    "ratio = 1\n",
    "\n",
    "\n",
    "for j in range(len(arr)):\n",
    "    if j < 3:\n",
    "        product = product * arr[j]\n",
    "    else:\n",
    "        if j == 3:\n",
    "            ratio = arr[j]\n",
    "        else:\n",
    "            ratio = ratio / arr[j]\n",
    "\n",
    "\n",
    "print(\"Array Values\", arr)\n",
    "print(\"The product of the first three numbers is:\", product)\n",
    "print(\"The Ratio of the Last two numbers is:\", ratio)"
   ]
  },
  {
   "cell_type": "markdown",
   "metadata": {},
   "source": [
    "**initilize a variable with hot and cold your program should print H A C capatilize form**\n"
   ]
  },
  {
   "cell_type": "code",
   "execution_count": 3,
   "metadata": {},
   "outputs": [
    {
     "name": "stdout",
     "output_type": "stream",
     "text": [
      "['hot', 'and', 'cold']\n",
      "H\n",
      "A\n",
      "C\n"
     ]
    }
   ],
   "source": [
    "# Solution 1\n",
    "\n",
    "a = \"hot and cold\"\n",
    "\n",
    "b = a.split(\" \")\n",
    "\n",
    "print(b)\n",
    "\n",
    "for i in range(len(b)):\n",
    "    print(b[i].capitalize()[0])"
   ]
  },
  {
   "cell_type": "code",
   "execution_count": 4,
   "metadata": {},
   "outputs": [
    {
     "name": "stdout",
     "output_type": "stream",
     "text": [
      "H A C \n"
     ]
    }
   ],
   "source": [
    "#  Solution Number 2\n",
    "\n",
    "a = \"hot and cold\"\n",
    "b = \"\"\n",
    "for i in range(len(a)):\n",
    "    if i == 0:\n",
    "        b = b + a[i].capitalize() + \" \"\n",
    "        # print(a[i].capitalize())\n",
    "    if a[i - 1] == \" \":\n",
    "        b = b + a[i].capitalize() + \" \"\n",
    "\n",
    "print(b)"
   ]
  },
  {
   "cell_type": "markdown",
   "metadata": {},
   "source": [
    "Create This Pattern\n",
    "\n",
    "+++++\n",
    "++++\n",
    "+++\n",
    "++\n",
    "\n",
    "-\n"
   ]
  },
  {
   "cell_type": "code",
   "execution_count": 5,
   "metadata": {},
   "outputs": [
    {
     "name": "stdout",
     "output_type": "stream",
     "text": [
      "+++++\n",
      "++++\n",
      "+++\n",
      "++\n",
      "+\n"
     ]
    }
   ],
   "source": [
    "i = 5\n",
    "\n",
    "while i != 0:\n",
    "    print(i * \"+\")\n",
    "    i = i - 1"
   ]
  },
  {
   "cell_type": "markdown",
   "metadata": {},
   "source": [
    "Ask The user to enter how many number you want enter then print the product of all\n"
   ]
  },
  {
   "cell_type": "code",
   "execution_count": 6,
   "metadata": {},
   "outputs": [
    {
     "name": "stdout",
     "output_type": "stream",
     "text": [
      "Product of All Numbers is 1\n"
     ]
    }
   ],
   "source": [
    "num = int(input(\"How many number you want to enter\"))\n",
    "product = 1\n",
    "for i in range(num):\n",
    "    number = int(input(\"Enter any Number\"))\n",
    "    product = product * number\n",
    "print(\"Product of All Numbers is\", product)"
   ]
  },
  {
   "cell_type": "markdown",
   "metadata": {},
   "source": [
    "**LINEAR Search And Replacement**\n"
   ]
  },
  {
   "cell_type": "code",
   "execution_count": 7,
   "metadata": {},
   "outputs": [
    {
     "name": "stdout",
     "output_type": "stream",
     "text": [
      "[6, 3, 2, 10, 8, 1, 10, 5, 6, 9]\n",
      "\n",
      "[6, 3, 2, 10, 8, 1, 10, 5, 6, 9]\n"
     ]
    }
   ],
   "source": [
    "import random\n",
    "\n",
    "a = [0 for x in range(10)]\n",
    "\n",
    "\n",
    "for i in range(len(a)):\n",
    "    number = random.randint(1, 10)\n",
    "    a[i] = number\n",
    "print(a)\n",
    "\n",
    "\n",
    "number = int(input(\"Wnat Number do you want to search for\"))\n",
    "number2 = int(input(\"Enter Number to be Replace with\"))\n",
    "\n",
    "# positions = []\n",
    "# for j in range(len(a)) :\n",
    "\n",
    "#    if a[j] == number :\n",
    "#        positions.append(j)\n",
    "positions = \"\"\n",
    "for j in range(len(a)):\n",
    "    if a[j] == number:\n",
    "        positions = positions + str(j) + \" \"\n",
    "        a[j] = number2\n",
    "print(positions)\n",
    "\n",
    "print(a)"
   ]
  },
  {
   "cell_type": "markdown",
   "metadata": {},
   "source": [
    "linear search with while loop\n"
   ]
  },
  {
   "cell_type": "code",
   "execution_count": 8,
   "metadata": {},
   "outputs": [
    {
     "name": "stdout",
     "output_type": "stream",
     "text": [
      "1 0\n",
      "2 0\n",
      "3 0\n",
      "4 0\n",
      "5 0\n",
      "6 0\n",
      "7 0\n",
      "8 0\n",
      "9 0\n",
      "10 0\n",
      "0 NOT FOUND\n"
     ]
    }
   ],
   "source": [
    "global arrayData\n",
    "\n",
    "arrayData = [10, 5, 6, 7, 1, 12, 13, 15, 21, 8]\n",
    "\n",
    "find = int(input(\"Wnat Number do you want to search for\"))\n",
    "\n",
    "\n",
    "def linearSearch(number_To_Searched):\n",
    "    index = 0\n",
    "\n",
    "    while index < len(arrayData) and arrayData[index] != number_To_Searched:\n",
    "        if arrayData[index] != number_To_Searched:\n",
    "            index = index + 1\n",
    "            print(index, number_To_Searched)\n",
    "    if index > len(arrayData) - 1:\n",
    "        return print(number_To_Searched, \"NOT FOUND\")\n",
    "    else:\n",
    "        return print(index, \"is the position of\", number_To_Searched)\n",
    "\n",
    "\n",
    "linearSearch(find)"
   ]
  },
  {
   "cell_type": "markdown",
   "metadata": {},
   "source": [
    "Double Search with while loop\n"
   ]
  },
  {
   "cell_type": "code",
   "execution_count": 9,
   "metadata": {},
   "outputs": [
    {
     "ename": "ValueError",
     "evalue": "invalid literal for int() with base 10: ''",
     "output_type": "error",
     "traceback": [
      "\u001b[1;31m---------------------------------------------------------------------------\u001b[0m",
      "\u001b[1;31mValueError\u001b[0m                                Traceback (most recent call last)",
      "Cell \u001b[1;32mIn[9], line 5\u001b[0m\n\u001b[0;32m      1\u001b[0m \u001b[38;5;28;01mglobal\u001b[39;00m arrayData\n\u001b[0;32m      3\u001b[0m arrayData \u001b[38;5;241m=\u001b[39m [\u001b[38;5;241m10\u001b[39m, \u001b[38;5;241m5\u001b[39m, \u001b[38;5;241m6\u001b[39m, \u001b[38;5;241m10\u001b[39m, \u001b[38;5;241m1\u001b[39m, \u001b[38;5;241m12\u001b[39m, \u001b[38;5;241m13\u001b[39m, \u001b[38;5;241m10\u001b[39m, \u001b[38;5;241m21\u001b[39m, \u001b[38;5;241m8\u001b[39m]\n\u001b[1;32m----> 5\u001b[0m find \u001b[38;5;241m=\u001b[39m \u001b[38;5;28;43mint\u001b[39;49m\u001b[43m(\u001b[49m\u001b[38;5;28;43minput\u001b[39;49m\u001b[43m(\u001b[49m\u001b[38;5;124;43m\"\u001b[39;49m\u001b[38;5;124;43mWnat Number do you want to search for\u001b[39;49m\u001b[38;5;124;43m\"\u001b[39;49m\u001b[43m)\u001b[49m\u001b[43m)\u001b[49m\n\u001b[0;32m      8\u001b[0m \u001b[38;5;28;01mdef\u001b[39;00m \u001b[38;5;21mlinearSearch\u001b[39m(number_To_Searched):\n\u001b[0;32m      9\u001b[0m     index \u001b[38;5;241m=\u001b[39m \u001b[38;5;241m0\u001b[39m\n",
      "\u001b[1;31mValueError\u001b[0m: invalid literal for int() with base 10: ''"
     ]
    }
   ],
   "source": [
    "global arrayData\n",
    "\n",
    "arrayData = [10, 5, 6, 10, 1, 12, 13, 10, 21, 8]\n",
    "\n",
    "find = int(input(\"Wnat Number do you want to search for\"))\n",
    "\n",
    "\n",
    "def linearSearch(number_To_Searched):\n",
    "    index = 0\n",
    "    amount = 0\n",
    "    while index < len(arrayData):\n",
    "        if arrayData[index] == number_To_Searched:\n",
    "            amount = amount + 1\n",
    "            print(index, number_To_Searched, amount)\n",
    "        index = index + 1\n",
    "\n",
    "    if index > len(arrayData) - 1 and amount == 0:\n",
    "        return print(number_To_Searched, \"NOT FOUND\")\n",
    "    else:\n",
    "        return print(number_To_Searched, \"is Found\", amount, \"of time\")\n",
    "\n",
    "\n",
    "linearSearch(find)"
   ]
  },
  {
   "cell_type": "code",
   "execution_count": null,
   "metadata": {},
   "outputs": [
    {
     "name": "stdout",
     "output_type": "stream",
     "text": [
      "[38, 26, 58, 0, 86, 62, 32, 38, 78, 80, 16, 30, 0, 96, 72, 44, 12, 70, 76, 92] 3 12 \n"
     ]
    }
   ],
   "source": [
    "import random\n",
    "\n",
    "arr = [random.randrange(0, 100, 2) for x in range(20)]\n",
    "\n",
    "\n",
    "amount = \"\"\n",
    "for i in range(len(arr)):\n",
    "    if arr[i] >= 0 and arr[i] <= 10:\n",
    "        arr[i] = 0\n",
    "        amount = amount + str(i) + \" \"\n",
    "\n",
    "print(arr, amount)"
   ]
  },
  {
   "cell_type": "markdown",
   "metadata": {},
   "source": [
    "**BINARY SEARCH WITH USER INPUT**\n"
   ]
  },
  {
   "cell_type": "code",
   "execution_count": null,
   "metadata": {},
   "outputs": [
    {
     "name": "stdout",
     "output_type": "stream",
     "text": [
      "50 mid\n",
      "75 mid\n",
      "88 mid\n",
      "94 mid\n",
      "97 mid\n",
      "99 mid\n",
      "100 mid\n",
      "100 result\n",
      "Element Found At index 100\n"
     ]
    }
   ],
   "source": [
    "array = []\n",
    "for i in range(101):\n",
    "    array.append(i)\n",
    "\n",
    "# print(array)\n",
    "\n",
    "lenght = len(array)\n",
    "\n",
    "# num = int(input(\"Number to be Found\"))\n",
    "\n",
    "\n",
    "def binarySearch(x, arr):\n",
    "    min = 0\n",
    "    mid = -1\n",
    "    high = len(arr)\n",
    "\n",
    "    if x in array:\n",
    "        while min <= high:\n",
    "            # print(min,\"min\")\n",
    "            # print(high,\"high\")\n",
    "            mid = (high + min) // 2\n",
    "            print(mid, \"mid\")\n",
    "            if arr[mid] == x:\n",
    "                return mid\n",
    "            if arr[mid] > x:\n",
    "                high = mid\n",
    "            elif arr[mid] < x:\n",
    "                min = mid\n",
    "\n",
    "        return mid\n",
    "    else:\n",
    "        return -1\n",
    "\n",
    "\n",
    "num = int(input(\"enter number for search\"))\n",
    "\n",
    "result = binarySearch(num, array)\n",
    "print(result, \"result\")\n",
    "if result == -1:\n",
    "    print(\"Element Is not Present\")\n",
    "else:\n",
    "    print(\"Element Found At index\", result)"
   ]
  },
  {
   "cell_type": "markdown",
   "metadata": {},
   "source": [
    "**BUBBLE SORT Program**\n"
   ]
  },
  {
   "cell_type": "code",
   "execution_count": null,
   "metadata": {},
   "outputs": [
    {
     "name": "stdout",
     "output_type": "stream",
     "text": [
      "[3, 2, 5, 1, 6]\n",
      "[2, 3, 1, 5, 6]\n",
      "[2, 1, 3, 5, 6]\n",
      "[1, 2, 3, 5, 6]\n",
      "[1, 2, 3, 5, 6]\n"
     ]
    }
   ],
   "source": [
    "def sorting(array):\n",
    "    limit = len(array) - 1\n",
    "    swapped = False\n",
    "\n",
    "    for i in range(limit):\n",
    "        for j in range(0, limit - i):\n",
    "            if array[j] > array[j + 1]:\n",
    "                swapped = True\n",
    "                array[j], array[j + 1] = array[j + 1], array[j]\n",
    "        print(array)\n",
    "\n",
    "        if not swapped:\n",
    "            return\n",
    "\n",
    "    return\n",
    "\n",
    "\n",
    "Element = [5, 3, 2, 6, 1]\n",
    "# Element = [1, 2, 3, 4, 5, 6, 7, 8, 9, 10, 11, 12, 13, 14]\n",
    "sorting(Element)\n",
    "print(Element)\n",
    "\n",
    "\n",
    "# num = int(input(\"enter number for search\"))\n",
    "\n",
    "# result = binarySearch(num, Element)\n",
    "# print(result, \"result\")\n",
    "# if result == -1:\n",
    "#     print(\"Element Is not Present\")\n",
    "# else:\n",
    "#     print('Element Found At index', result)"
   ]
  },
  {
   "cell_type": "markdown",
   "metadata": {},
   "source": [
    "**Switch Case and Reverse the String**\n"
   ]
  },
  {
   "cell_type": "code",
   "execution_count": null,
   "metadata": {},
   "outputs": [
    {
     "name": "stdout",
     "output_type": "stream",
     "text": [
      "2\n",
      "1\n",
      "0\n",
      " pRoBlEm iN SeNtEnCe\n"
     ]
    }
   ],
   "source": [
    "def reverse_string_and_switch_case(string):\n",
    "    newString = \"\"\n",
    "    for i in range(len(string)):\n",
    "        char = str(string[i])\n",
    "        lower = char.lower()\n",
    "        upper = char.upper()\n",
    "\n",
    "        if char.isupper():\n",
    "            newString = newString + lower\n",
    "        else:\n",
    "            newString = newString + upper\n",
    "\n",
    "    nString = newString.split(\" \")\n",
    "    index = len(nString) - 1\n",
    "    justString = \"\"\n",
    "    while index != -1:\n",
    "        print(index)\n",
    "        justString = justString + \" \" + nString[index]\n",
    "        index -= 1\n",
    "    # nString[0], nString[len(nString) -1] = nString[len(nString) - 1], nString[0]\n",
    "    listToStr = \" \".join([str(elem) for elem in nString])\n",
    "\n",
    "    return justString\n",
    "\n",
    "\n",
    "# sentence = input(\"Input The Sentence\")\n",
    "print(reverse_string_and_switch_case(\"sEnTeNcE In PrObLeM\"))"
   ]
  },
  {
   "cell_type": "markdown",
   "metadata": {},
   "source": [
    "**Insertion sort**\n",
    "\n",
    "The insertionSort function takes an array arr as input. It first calculates the length of the array (n). If the length is 0 or 1, the function returns immediately as an array with 0 or 1 element is considered already sorted.\n",
    "\n",
    "For arrays with more than one element, the function proceeds to iterate over the array starting from the second element. It takes the current element (referred to as the “key”) and compares it with the elements in the sorted portion of the array that precede it. If the key is smaller than an element in the sorted portion, the function shifts that element to the right, creating space for the key. This process continues until the correct position for the key is found, and it is then inserted in that position.\n"
   ]
  },
  {
   "cell_type": "code",
   "execution_count": null,
   "metadata": {},
   "outputs": [
    {
     "name": "stdout",
     "output_type": "stream",
     "text": [
      "[1, 2, 3, 4, 5, 6]\n"
     ]
    }
   ],
   "source": [
    "def insertion(arr):\n",
    "    limit = len(arr)\n",
    "    if limit <= 1:\n",
    "        return\n",
    "    for i in range(limit):\n",
    "        value = arr[i]\n",
    "        j = i - 1\n",
    "        while j >= 0 and value < arr[j]:\n",
    "            arr[j + 1] = arr[j]\n",
    "            j -= 1\n",
    "        arr[j + 1] = value\n",
    "\n",
    "\n",
    "Element = [6, 5, 4, 2, 3, 1]\n",
    "insertion(Element)\n",
    "print(Element)"
   ]
  },
  {
   "cell_type": "markdown",
   "metadata": {},
   "source": [
    "Stack Concept in Python\n"
   ]
  },
  {
   "cell_type": "code",
   "execution_count": 17,
   "metadata": {},
   "outputs": [
    {
     "name": "stdout",
     "output_type": "stream",
     "text": [
      "['pop']\n",
      "['pop', 'push']\n",
      "['pop', 'push', 'yes']\n",
      "['pop', 'push', 'yes', 'no']\n",
      "['pop', 'push', 'yes', 0] -2\n",
      "['pop', 'push', 0, 0] -3\n",
      "['pop', 0, 0, 0] -4\n"
     ]
    }
   ],
   "source": [
    "global arr\n",
    "global index\n",
    "arr = []\n",
    "\n",
    "\n",
    "def pop(array, index):\n",
    "    if index == 0:\n",
    "        return print(\"Array does not contain any value\")\n",
    "    array[index] = 0\n",
    "    index = index - 1\n",
    "\n",
    "\n",
    "def push(string, array):\n",
    "    if string == \" \":\n",
    "        return print(\"String is required\")\n",
    "    array = array + [string]\n",
    "    return array\n",
    "\n",
    "\n",
    "want_to_stop = \"no\"\n",
    "index = len(arr) - 1\n",
    "while want_to_stop.lower() == \"no\":\n",
    "\n",
    "    choice = input(\"Enter your choice, 'Push' or 'Pop\")\n",
    "    if choice.lower() == \"pop\":\n",
    "        pop(arr, index)\n",
    "        index = index - 1\n",
    "        print(arr, index)\n",
    "    elif choice.lower() == \"push\":\n",
    "        data = input(\"enter value to be pushed in array\")\n",
    "        arr = push(data, arr)\n",
    "        print(arr)\n",
    "    want_to_stop = input(\"Want to stop,'Yes' or 'No'\")"
   ]
  },
  {
   "cell_type": "markdown",
   "metadata": {},
   "source": [
    "**QUEUE CONCEPT**\n"
   ]
  },
  {
   "cell_type": "code",
   "execution_count": null,
   "metadata": {},
   "outputs": [
    {
     "name": "stdout",
     "output_type": "stream",
     "text": [
      "['123'] Array\n",
      "['123', '456'] Array\n",
      "['123', '456', '789'] Array\n",
      "['123', '456', '789', '000'] Array\n",
      "['456', '789', '000'] Array\n",
      "['789', '000'] Array\n",
      "['000'] Array\n"
     ]
    }
   ],
   "source": [
    "global array\n",
    "array = []\n",
    "\n",
    "\n",
    "want_to_stop = \"no\"\n",
    "\n",
    "while want_to_stop.lower() == \"no\":\n",
    "    choice = input(\"Enter your choice, 'Push' or 'Pop\")\n",
    "    if choice == \"push\":\n",
    "        letter = input(\"Enter the letter\")\n",
    "        array = array + [letter]\n",
    "    else:\n",
    "        del array[0]\n",
    "    want_to_stop = input(\"Do you want to stop 'Yes'or 'No' \")\n",
    "    print(array, \"Array\")"
   ]
  },
  {
   "cell_type": "markdown",
   "metadata": {},
   "source": [
    "**Random array generation of lenght ten; bubble sort, binary Search and Linear Search**\n"
   ]
  },
  {
   "cell_type": "code",
   "execution_count": null,
   "metadata": {},
   "outputs": [
    {
     "name": "stdout",
     "output_type": "stream",
     "text": [
      "[1, 3, 4, 5, 6, 7, 7, 8, 8, 9, 10, 11, 13, 14, 14, 15, 15, 17, 18, 19, 19, 21, 23, 24, 25, 28, 30, 30, 31, 32, 32, 33, 33, 37, 39, 40, 40, 42, 42, 42, 42, 44, 44, 44, 45, 46, 49, 49, 52, 54, 57, 57, 58, 59, 59, 61, 61, 62, 63, 63, 69, 69, 70, 72, 72, 72, 75, 76, 76, 77, 78, 79, 80, 80, 80, 80, 80, 81, 81, 87, 88, 88, 88, 90, 91, 91, 91, 92, 92, 95, 97, 98, 100, 100, 101, 101, 102, 102, 103, 103, 103, 106, 107, 108, 109, 109, 109, 111, 111, 112, 112, 113, 113, 114, 114, 115, 116, 116, 118, 118, 119, 122, 124, 126, 126, 126, 126, 127, 128, 129, 130, 131, 131, 132, 132, 133, 135, 135, 135, 138, 141, 141, 142, 142, 143, 144, 146, 147, 147, 149, 149, 149, 150, 150, 151, 153, 153, 154, 155, 156, 157, 158, 158, 160, 161, 162, 163, 166, 167, 167, 167, 168, 170, 171, 172, 173, 174, 176, 177, 180, 180, 181, 181, 181, 182, 183, 183, 185, 185, 188, 191, 192, 192, 194, 194, 195, 196, 197, 197, 197, 199, 202, 204, 205, 205, 206, 207, 207, 208, 209, 214, 214, 215, 216, 218, 219, 220, 221, 221, 222, 222, 223, 224, 226, 231, 231, 231, 232, 232, 234, 234, 236, 237, 238, 238, 240, 240, 240, 240, 241, 242, 242, 243, 244, 246, 247, 248, 249, 249, 249, 250, 253, 255, 255, 256, 256, 257, 259, 259, 259, 261, 261, 262, 262, 263, 263, 264, 264, 265, 266, 270, 271, 272, 274, 275, 277, 277, 278, 279, 282, 284, 285, 285, 285, 287, 287, 289, 291, 292, 292, 292, 293, 293, 294, 296, 296, 297, 298, 299, 300, 300, 300, 301, 301, 302, 303, 303, 303, 304, 305, 305, 310, 311, 311, 314, 316, 319, 321, 322, 323, 324, 325, 325, 325, 326, 326, 327, 329, 330, 330, 331, 331, 332, 333, 333, 334, 337, 337, 337, 340, 340, 340, 341, 341, 342, 342, 342, 343, 343, 343, 345, 350, 351, 352, 353, 353, 355, 355, 356, 358, 359, 361, 361, 361, 361, 363, 365, 367, 367, 368, 369, 369, 371, 371, 371, 371, 372, 372, 372, 372, 374, 374, 375, 377, 379, 379, 380, 380, 382, 382, 382, 382, 384, 385, 386, 386, 386, 387, 390, 391, 394, 394, 395, 396, 398, 399, 399, 402, 403, 405, 405, 406, 407, 408, 408, 409, 411, 414, 415, 416, 418, 418, 418, 419, 419, 421, 421, 421, 421, 421, 423, 424, 424, 425, 426, 426, 426, 428, 429, 432, 433, 433, 436, 436, 438, 441, 441, 446, 446, 447, 448, 448, 449, 449, 449, 450, 450, 452, 454, 457, 459, 461, 463, 465, 466, 467, 468, 469, 469, 472, 473, 473, 473, 475, 475, 477, 477, 477, 478, 479, 480, 480, 481, 481, 484, 486, 486, 488, 488, 489, 491, 491, 492, 494, 494, 495, 498, 498, 498, 498, 499]\n"
     ]
    }
   ],
   "source": [
    "import random\n",
    "\n",
    "arr = [random.randrange(1, 501, 1) for i in range(501)]\n",
    "\n",
    "\n",
    "def sorting(array):\n",
    "    limit = len(array) - 1\n",
    "    swapped = False\n",
    "    for i in range(limit):\n",
    "        for j in range(limit - i):\n",
    "            if array[j] > array[j + 1]:\n",
    "                swapped = True\n",
    "                array[j], array[j + 1] = array[j + 1], array[j]\n",
    "        if not swapped:\n",
    "            return\n",
    "    return array\n",
    "\n",
    "\n",
    "arr = sorted(arr)\n",
    "print(arr)"
   ]
  },
  {
   "cell_type": "code",
   "execution_count": null,
   "metadata": {},
   "outputs": [
    {
     "name": "stdout",
     "output_type": "stream",
     "text": [
      "496 True\n"
     ]
    }
   ],
   "source": [
    "def linearSearch(array, numberSearch):\n",
    "    lenght = len(array) - 1\n",
    "    index = 0\n",
    "    numberFound = False\n",
    "    while index < lenght and numberFound == False:\n",
    "        if array[index] == numberSearch:\n",
    "            numberFound = True\n",
    "            print(index, True)\n",
    "        elif array[index] != numberSearch:\n",
    "            index = index + 1\n",
    "    if numberFound == False and index == lenght:\n",
    "        print(\"number not found\")\n",
    "\n",
    "\n",
    "number = 498\n",
    "linearSearch(arr, number)"
   ]
  },
  {
   "cell_type": "code",
   "execution_count": null,
   "metadata": {},
   "outputs": [
    {
     "name": "stdout",
     "output_type": "stream",
     "text": [
      "250 mid\n",
      "375 mid\n",
      "438 mid\n",
      "469 mid\n",
      "485 mid\n",
      "493 mid\n",
      "497 mid\n",
      "497 result\n",
      "Element Found At index 497\n"
     ]
    }
   ],
   "source": [
    "def BinarySearch(number, array):\n",
    "    min = 0\n",
    "    mid = -1\n",
    "    high = len(array)\n",
    "\n",
    "    for i in range(len(array)):\n",
    "        while min <= high:\n",
    "            mid = (high + min) // 2\n",
    "            print(mid, \"mid\")\n",
    "            if arr[mid] == number:\n",
    "                return mid\n",
    "            if arr[mid] > number:\n",
    "                high = mid\n",
    "            elif arr[mid] < number:\n",
    "                min = mid\n",
    "\n",
    "        return mid\n",
    "    else:\n",
    "        return -1\n",
    "\n",
    "\n",
    "num = 498\n",
    "result = BinarySearch(num, arr)\n",
    "print(result, \"result\")\n",
    "if result == -1:\n",
    "    print(\"Element Is not Present\")\n",
    "else:\n",
    "    print(\"Element Found At index\", result)\n",
    "\n",
    "    # create some python task for begineer which have the knowlegde of array loops user define functions stack queue binary search and linear search"
   ]
  },
  {
   "cell_type": "markdown",
   "metadata": {},
   "source": [
    "**Factorial Number**\n"
   ]
  },
  {
   "cell_type": "code",
   "execution_count": null,
   "metadata": {},
   "outputs": [
    {
     "name": "stdout",
     "output_type": "stream",
     "text": [
      "1\n"
     ]
    }
   ],
   "source": [
    "number = 0\n",
    "factorial = 1\n",
    "for i in range(1, number + 1):\n",
    "    factorial = factorial * i\n",
    "print(factorial)"
   ]
  },
  {
   "cell_type": "markdown",
   "metadata": {},
   "source": [
    "Write a program to create a simple text-based adventure game.\n"
   ]
  },
  {
   "cell_type": "code",
   "execution_count": 1,
   "metadata": {},
   "outputs": [
    {
     "name": "stdout",
     "output_type": "stream",
     "text": [
      "Welcome to the Adventure Game!\n",
      "You find yourself in a dark forest, with two paths ahead.\n",
      "Which path do you choose? (left or right)\n",
      "You encounter a fearsome monster!\n",
      "Do you fight or run? (fight or run)\n",
      "You run away from the monster and escape.\n",
      "Welcome to the Adventure Game!\n",
      "You find yourself in a dark forest, with two paths ahead.\n",
      "Which path do you choose? (left or right)\n",
      "You encounter a fearsome monster!\n",
      "Do you fight or run? (fight or run)\n",
      "Invalid choice. Please choose fight or run.\n",
      "You encounter a fearsome monster!\n",
      "Do you fight or run? (fight or run)\n",
      "You run away from the monster and escape.\n",
      "Welcome to the Adventure Game!\n",
      "You find yourself in a dark forest, with two paths ahead.\n",
      "Which path do you choose? (left or right)\n",
      "Invalid choice. Please choose left or right.\n",
      "Welcome to the Adventure Game!\n",
      "You find yourself in a dark forest, with two paths ahead.\n",
      "Which path do you choose? (left or right)\n",
      "Invalid choice. Please choose left or right.\n",
      "Welcome to the Adventure Game!\n",
      "You find yourself in a dark forest, with two paths ahead.\n",
      "Which path do you choose? (left or right)\n",
      "Invalid choice. Please choose left or right.\n",
      "Welcome to the Adventure Game!\n",
      "You find yourself in a dark forest, with two paths ahead.\n",
      "Which path do you choose? (left or right)\n",
      "Invalid choice. Please choose left or right.\n",
      "Welcome to the Adventure Game!\n",
      "You find yourself in a dark forest, with two paths ahead.\n",
      "Which path do you choose? (left or right)\n",
      "Invalid choice. Please choose left or right.\n",
      "Welcome to the Adventure Game!\n",
      "You find yourself in a dark forest, with two paths ahead.\n",
      "Which path do you choose? (left or right)\n",
      "Invalid choice. Please choose left or right.\n",
      "Welcome to the Adventure Game!\n",
      "You find yourself in a dark forest, with two paths ahead.\n",
      "Which path do you choose? (left or right)\n",
      "Invalid choice. Please choose left or right.\n",
      "Welcome to the Adventure Game!\n",
      "You find yourself in a dark forest, with two paths ahead.\n",
      "Which path do you choose? (left or right)\n",
      "Invalid choice. Please choose left or right.\n",
      "Welcome to the Adventure Game!\n",
      "You find yourself in a dark forest, with two paths ahead.\n",
      "Which path do you choose? (left or right)\n",
      "Invalid choice. Please choose left or right.\n",
      "Welcome to the Adventure Game!\n",
      "You find yourself in a dark forest, with two paths ahead.\n",
      "Which path do you choose? (left or right)\n",
      "Invalid choice. Please choose left or right.\n",
      "Welcome to the Adventure Game!\n",
      "You find yourself in a dark forest, with two paths ahead.\n",
      "Which path do you choose? (left or right)\n",
      "Invalid choice. Please choose left or right.\n",
      "Welcome to the Adventure Game!\n",
      "You find yourself in a dark forest, with two paths ahead.\n",
      "Which path do you choose? (left or right)\n"
     ]
    }
   ],
   "source": [
    "def start_game():\n",
    "    print(\"Welcome to the Adventure Game!\")\n",
    "    print(\"You find yourself in a dark forest, with two paths ahead.\")\n",
    "    print(\"Which path do you choose? (left or right)\")\n",
    "\n",
    "    choice = input(\"enter choice left or right\")\n",
    "\n",
    "    if choice == \"left\":\n",
    "        encounter_monster()\n",
    "    elif choice == \"right\":\n",
    "        find_treasure()\n",
    "    else:\n",
    "        print(\"Invalid choice. Please choose left or right.\")\n",
    "        start_game()\n",
    "\n",
    "\n",
    "def encounter_monster():\n",
    "    print(\"You encounter a fearsome monster!\")\n",
    "    print(\"Do you fight or run? (fight or run)\")\n",
    "\n",
    "    choice = input(\"fight or run \")\n",
    "\n",
    "    if choice == \"fight\":\n",
    "        print(\"You bravely fight the monster and defeat it!\")\n",
    "        print(\"Congratulations, you win!\")\n",
    "    elif choice == \"run\":\n",
    "        print(\"You run away from the monster and escape.\")\n",
    "        start_game()\n",
    "    else:\n",
    "        print(\"Invalid choice. Please choose fight or run.\")\n",
    "        encounter_monster()\n",
    "\n",
    "\n",
    "def find_treasure():\n",
    "    print(\"You discover a hidden treasure chest!\")\n",
    "    print(\"Do you open it? (yes or no)\")\n",
    "\n",
    "    choice = input(\"Yes or no\")\n",
    "\n",
    "    if choice == \"yes\":\n",
    "        print(\"You open the chest and find a hoard of gold!\")\n",
    "        print(\"Congratulations, you win!\")\n",
    "    elif choice == \"no\":\n",
    "        print(\"You leave the chest unopened.\")\n",
    "        start_game()\n",
    "    else:\n",
    "        print(\"Invalid choice. Please choose yes or no.\")\n",
    "        find_treasure()\n",
    "\n",
    "\n",
    "start_game()"
   ]
  },
  {
   "cell_type": "markdown",
   "metadata": {},
   "source": [
    "# **_Linked List_**\n"
   ]
  },
  {
   "cell_type": "code",
   "execution_count": null,
   "metadata": {},
   "outputs": [
    {
     "name": "stdout",
     "output_type": "stream",
     "text": [
      "Hello World\n"
     ]
    }
   ],
   "source": [
    "def Link_List():\n",
    "    return \"Hello World\"\n",
    "\n",
    "\n",
    "print(Link_List())"
   ]
  },
  {
   "cell_type": "markdown",
   "metadata": {},
   "source": [
    "# **_File Operations_**\n"
   ]
  },
  {
   "cell_type": "code",
   "execution_count": null,
   "metadata": {},
   "outputs": [
    {
     "name": "stdout",
     "output_type": "stream",
     "text": [
      "This is the write command \n",
      "\n",
      "\n",
      "It allows us to write in a particular file\n",
      "\n",
      "\n",
      "Adding a new line in file \n",
      "\n",
      "\n"
     ]
    }
   ],
   "source": [
    "def Open_File():\n",
    "    file = open(\"./python.txt\", \"r\")\n",
    "    for each in file:\n",
    "        print(f\"{each}\\n\")\n",
    "\n",
    "\n",
    "def Write_In_File():\n",
    "    file = open(\"./python.txt\", \"w\")\n",
    "    file.write(\"This is the write command \\n\")\n",
    "    file.write(\"It allows us to write in a particular file\\n\")\n",
    "    file.close()\n",
    "\n",
    "\n",
    "def Append_In_File():\n",
    "    file = open(\"./python.txt\", \"a\")\n",
    "    file.write(\"Adding a new line in file \\n\")\n",
    "    file.close()\n",
    "\n",
    "\n",
    "Write_In_File()\n",
    "Append_In_File()\n",
    "Open_File()"
   ]
  },
  {
   "cell_type": "markdown",
   "metadata": {},
   "source": [
    "**_Recreating the above Opertion with some changes_**\n"
   ]
  },
  {
   "cell_type": "code",
   "execution_count": 11,
   "metadata": {},
   "outputs": [
    {
     "name": "stdout",
     "output_type": "stream",
     "text": [
      "Hello world ! \n",
      "Appending Some Text in the file ! \n",
      " content\n",
      "Error: could not rename the file\n",
      "File myfile.txt deleted successfully.\n"
     ]
    }
   ],
   "source": [
    "import os\n",
    "\n",
    "\n",
    "def createFile():\n",
    "    try:\n",
    "        with open(\"./file.txt\", \"w\") as file:\n",
    "            file.write(\"Hello world ! \\n\")\n",
    "    except IOError:\n",
    "        print(\"Error While creating the file\")\n",
    "\n",
    "\n",
    "def readFile():\n",
    "    try:\n",
    "        with open(\"file.txt\", \"r\") as file:\n",
    "            content = file.read()\n",
    "            print(content, \"content\")\n",
    "    except IOError:\n",
    "        print(\"Error While reading the file\")\n",
    "\n",
    "\n",
    "def append_File():\n",
    "    try:\n",
    "        with open(\"./file.txt\", \"a\") as file:\n",
    "            file.write(\"Appending Some Text in the file ! \\n\")\n",
    "    except IOError:\n",
    "        print(\"Error: Could not append file\")\n",
    "\n",
    "\n",
    "def rename_File():\n",
    "    try:\n",
    "        os.rename(\"./file.txt\", \"./myfile.txt\")\n",
    "        print(\"File file.txt named to  myfile.txt  successfully.\")\n",
    "    except IOError:\n",
    "        print(\"Error: could not rename the file\")\n",
    "\n",
    "\n",
    "def delete_file():\n",
    "    try:\n",
    "        os.remove(\"./myfile.txt\")\n",
    "        print(\"File myfile.txt deleted successfully.\")\n",
    "    except IOError:\n",
    "        print(\"Error: could not delete file myfile.txt\")\n",
    "\n",
    "\n",
    "createFile()\n",
    "append_File()\n",
    "readFile()\n",
    "rename_File()\n",
    "delete_file()"
   ]
  },
  {
   "cell_type": "code",
   "execution_count": 2,
   "metadata": {},
   "outputs": [
    {
     "name": "stdout",
     "output_type": "stream",
     "text": [
      "99\n"
     ]
    }
   ],
   "source": [
    "array = [1, 0, 1, 0, 99, 1, 0]\n",
    "\n",
    "\n",
    "for i in range(len(array) - 1):\n",
    "    if array.count(array[i]) == 1:\n",
    "        print(array[i])"
   ]
  },
  {
   "cell_type": "markdown",
   "metadata": {},
   "source": [
    "# **Circular Queue**\n"
   ]
  },
  {
   "cell_type": "code",
   "execution_count": 8,
   "metadata": {},
   "outputs": [
    {
     "name": "stdout",
     "output_type": "stream",
     "text": [
      "['', '', '']\n",
      "[57, '', '']\n"
     ]
    }
   ],
   "source": [
    "import random\n",
    "\n",
    "\n",
    "global FRONT\n",
    "\n",
    "\n",
    "global BACK\n",
    "\n",
    "\n",
    "FRONT = 0\n",
    "\n",
    "\n",
    "BACK = 0\n",
    "\n",
    "\n",
    "array = [\"\" for i in range(3)]\n",
    "\n",
    "print(array)\n",
    "\n",
    "\n",
    "def push():\n",
    "    global BACK\n",
    "    array[BACK] = random.randint(1, 100)\n",
    "\n",
    "    print(array)\n",
    "    BACK += 1\n",
    "    return array\n",
    "\n",
    "\n",
    "def pop():\n",
    "    global FRONT\n",
    "    array[FRONT] = \"\"\n",
    "\n",
    "    FRONT += 1\n",
    "\n",
    "    print(array, FRONT)\n",
    "\n",
    "    return array\n",
    "\n",
    "\n",
    "want_to_stop = \"n\"\n",
    "\n",
    "\n",
    "while want_to_stop.lower() != \"y\":\n",
    "\n",
    "    choice = input(\"Which Function Would you like to perform, Push OR Pop\")\n",
    "\n",
    "    if BACK == len(array) and FRONT == 0 and choice.lower() == \"push\":\n",
    "\n",
    "        print(\"Queue Full\")\n",
    "\n",
    "        want_to_stop = input(\"Do you want to stop 'Y'or 'N' \")\n",
    "\n",
    "    else:\n",
    "\n",
    "        if choice.lower() == \"pop\":\n",
    "\n",
    "            if BACK == len(array):\n",
    "                BACK = FRONT\n",
    "                array = pop()\n",
    "\n",
    "            want_to_stop = input(\"Do you want to stop 'Y'or 'N' \")\n",
    "\n",
    "        elif choice.lower() == \"push\":\n",
    "            if BACK == len(array):\n",
    "                BACK = 0\n",
    "            elif array[BACK] != \"\":\n",
    "                print(\"Queue is full\")\n",
    "                BACK += 1\n",
    "            elif array[BACK] == \"\":\n",
    "                 array = push()\n",
    "\n",
    "            want_to_stop = input(\"Do you want to stop 'Y'or 'N' \")\n",
    "\n",
    "        else:\n",
    "\n",
    "            print(\"Enter Valid Choice\")\n",
    "\n",
    "            choice = input(\"Which Function Would you like to perform, Push OR Pop\")"
   ]
  }
 ],
 "metadata": {
  "kernelspec": {
   "display_name": "Python 3",
   "language": "python",
   "name": "python3"
  },
  "language_info": {
   "codemirror_mode": {
    "name": "ipython",
    "version": 3
   },
   "file_extension": ".py",
   "mimetype": "text/x-python",
   "name": "python",
   "nbconvert_exporter": "python",
   "pygments_lexer": "ipython3",
   "version": "3.12.0"
  }
 },
 "nbformat": 4,
 "nbformat_minor": 2
}
