{
 "cells": [
  {
   "cell_type": "markdown",
   "metadata": {},
   "source": [
    "**Generate Five Number And Print the product of first three and ratio of last two**\n"
   ]
  },
  {
   "cell_type": "code",
   "execution_count": 14,
   "metadata": {},
   "outputs": [
    {
     "name": "stdout",
     "output_type": "stream",
     "text": [
      "52\n",
      "12\n",
      "66\n",
      "21\n",
      "43\n",
      "The product of the first three numbers is: 41184\n",
      "The Ratio of the Last two numbers is: 0.4883720930232558\n"
     ]
    }
   ],
   "source": [
    "import random\n",
    "\n",
    "# arr = [0,0,0,0,0]\n",
    "\n",
    "# for i in range(len(arr)):\n",
    "#     a = random.randint(1, 100)\n",
    "#     arr[i] = a\n",
    "\n",
    "product = 1\n",
    "ratio = 1\n",
    "\n",
    "for k in range(5):\n",
    "    num = random.randint(1, 100)\n",
    "    print(num)\n",
    "    if k < 3:\n",
    "        product = product * num\n",
    "    else:\n",
    "        if k == 3:\n",
    "            ratio = num\n",
    "        else:\n",
    "            ratio = ratio / num\n",
    "\n",
    "# for j in range(len(arr)):\n",
    "#     if j < 3:\n",
    "#         product = product * arr[j]\n",
    "#     else:\n",
    "#         if j == 3:\n",
    "#          ratio = arr[j]\n",
    "#         else:\n",
    "#           ratio = ratio / arr[j]\n",
    "\n",
    "\n",
    "# print(\"Array Values\",arr)\n",
    "print(\"The product of the first three numbers is:\", product)\n",
    "print(\"The Ratio of the Last two numbers is:\", ratio)"
   ]
  },
  {
   "cell_type": "code",
   "execution_count": 15,
   "metadata": {},
   "outputs": [
    {
     "name": "stdout",
     "output_type": "stream",
     "text": [
      "Array Values [10, 89, 68, 61, 85]\n",
      "The product of the first three numbers is: 60520\n",
      "The Ratio of the Last two numbers is: 0.7176470588235294\n"
     ]
    }
   ],
   "source": [
    "import random\n",
    "\n",
    "arr = [0, 0, 0, 0, 0]\n",
    "\n",
    "for i in range(len(arr)):\n",
    "    a = random.randint(1, 100)\n",
    "    arr[i] = a\n",
    "\n",
    "product = 1\n",
    "ratio = 1\n",
    "\n",
    "\n",
    "for j in range(len(arr)):\n",
    "    if j < 3:\n",
    "        product = product * arr[j]\n",
    "    else:\n",
    "        if j == 3:\n",
    "            ratio = arr[j]\n",
    "        else:\n",
    "            ratio = ratio / arr[j]\n",
    "\n",
    "\n",
    "print(\"Array Values\", arr)\n",
    "print(\"The product of the first three numbers is:\", product)\n",
    "print(\"The Ratio of the Last two numbers is:\", ratio)"
   ]
  },
  {
   "cell_type": "markdown",
   "metadata": {},
   "source": [
    "**initilize a variable with hot and cold your program should print H A C capatilize form**\n"
   ]
  },
  {
   "cell_type": "code",
   "execution_count": 16,
   "metadata": {},
   "outputs": [
    {
     "name": "stdout",
     "output_type": "stream",
     "text": [
      "['hot', 'and', 'cold']\n",
      "H\n",
      "A\n",
      "C\n"
     ]
    }
   ],
   "source": [
    "# Solution 1\n",
    "\n",
    "a = \"hot and cold\"\n",
    "\n",
    "b = a.split(\" \")\n",
    "\n",
    "print(b)\n",
    "\n",
    "for i in range(len(b)):\n",
    "    print(b[i].capitalize()[0])"
   ]
  },
  {
   "cell_type": "code",
   "execution_count": 17,
   "metadata": {},
   "outputs": [
    {
     "name": "stdout",
     "output_type": "stream",
     "text": [
      "H A C \n"
     ]
    }
   ],
   "source": [
    "#  Solution Number 2\n",
    "\n",
    "a = \"hot and cold\"\n",
    "b = \"\"\n",
    "for i in range(len(a)):\n",
    "    if i == 0:\n",
    "        b = b + a[i].capitalize() + \" \"\n",
    "        # print(a[i].capitalize())\n",
    "    if a[i - 1] == \" \":\n",
    "        b = b + a[i].capitalize() + \" \"\n",
    "\n",
    "print(b)"
   ]
  },
  {
   "cell_type": "markdown",
   "metadata": {},
   "source": [
    "Create This Pattern\n",
    "\n",
    "+++++\n",
    "++++\n",
    "+++\n",
    "++\n",
    "\n",
    "-\n"
   ]
  },
  {
   "cell_type": "code",
   "execution_count": 18,
   "metadata": {},
   "outputs": [
    {
     "name": "stdout",
     "output_type": "stream",
     "text": [
      "+++++\n",
      "++++\n",
      "+++\n",
      "++\n",
      "+\n"
     ]
    }
   ],
   "source": [
    "i = 5\n",
    "\n",
    "while i != 0:\n",
    "    print(i * \"+\")\n",
    "    i = i - 1"
   ]
  },
  {
   "cell_type": "markdown",
   "metadata": {},
   "source": [
    "Ask The user to enter how many number you want enter then print the product of all\n"
   ]
  },
  {
   "cell_type": "code",
   "execution_count": 24,
   "metadata": {},
   "outputs": [
    {
     "name": "stdout",
     "output_type": "stream",
     "text": [
      "Product of All Numbers is 4\n"
     ]
    }
   ],
   "source": [
    "num = int(input(\"How many number you want to enter\"))\n",
    "product = 1\n",
    "for i in range(num):\n",
    "    number = int(input(\"Enter any Number\"))\n",
    "    product = product * number\n",
    "print(\"Product of All Numbers is\", product)"
   ]
  },
  {
   "cell_type": "markdown",
   "metadata": {},
   "source": [
    "**LINEAR Search And Replacement**\n"
   ]
  },
  {
   "cell_type": "code",
   "execution_count": 23,
   "metadata": {},
   "outputs": [
    {
     "name": "stdout",
     "output_type": "stream",
     "text": [
      "[10, 3, 7, 6, 5, 5, 10, 1, 8, 1]\n",
      "7 9 \n",
      "[10, 3, 7, 6, 5, 5, 10, 0, 8, 0]\n"
     ]
    }
   ],
   "source": [
    "import random\n",
    "\n",
    "a = [0 for x in range(10)]\n",
    "\n",
    "\n",
    "for i in range(len(a)):\n",
    "    number = random.randint(1, 10)\n",
    "    a[i] = number\n",
    "print(a)\n",
    "\n",
    "\n",
    "number = int(input(\"Wnat Number do you want to search for\"))\n",
    "number2 = int(input(\"Enter Number to be Replace with\"))\n",
    "\n",
    "# positions = []\n",
    "# for j in range(len(a)) :\n",
    "\n",
    "#    if a[j] == number :\n",
    "#        positions.append(j)\n",
    "positions = \"\"\n",
    "for j in range(len(a)):\n",
    "    if a[j] == number:\n",
    "        positions = positions + str(j) + \" \"\n",
    "        a[j] = number2\n",
    "print(positions)\n",
    "\n",
    "print(a)"
   ]
  },
  {
   "cell_type": "markdown",
   "metadata": {},
   "source": [
    "linear search with while loop\n"
   ]
  },
  {
   "cell_type": "code",
   "execution_count": 44,
   "metadata": {},
   "outputs": [
    {
     "name": "stdout",
     "output_type": "stream",
     "text": [
      "1 2221\n",
      "2 2221\n",
      "3 2221\n",
      "4 2221\n",
      "5 2221\n",
      "6 2221\n",
      "7 2221\n",
      "8 2221\n",
      "9 2221\n",
      "10 2221\n",
      "2221 NOT FOUND\n"
     ]
    }
   ],
   "source": [
    "global arrayData\n",
    "\n",
    "arrayData = [10, 5, 6, 7, 1, 12, 13, 15, 21, 8]\n",
    "\n",
    "find = int(input(\"Wnat Number do you want to search for\"))\n",
    "\n",
    "\n",
    "def linearSearch(number_To_Searched):\n",
    "    index = 0\n",
    "\n",
    "    while index < len(arrayData) and arrayData[index] != number_To_Searched:\n",
    "        if arrayData[index] != number_To_Searched:\n",
    "            index = index + 1\n",
    "            print(index, number_To_Searched)\n",
    "    if index > len(arrayData) - 1:\n",
    "        return print(number_To_Searched, \"NOT FOUND\")\n",
    "    else:\n",
    "        return print(index, \"is the position of\", number_To_Searched)\n",
    "\n",
    "\n",
    "linearSearch(find)"
   ]
  },
  {
   "cell_type": "markdown",
   "metadata": {},
   "source": [
    "Double Search with while loop\n"
   ]
  },
  {
   "cell_type": "code",
   "execution_count": 49,
   "metadata": {},
   "outputs": [
    {
     "name": "stdout",
     "output_type": "stream",
     "text": [
      "15 NOT FOUND\n"
     ]
    }
   ],
   "source": [
    "global arrayData\n",
    "\n",
    "arrayData = [10, 5, 6, 10, 1, 12, 13, 10, 21, 8]\n",
    "\n",
    "find = int(input(\"Wnat Number do you want to search for\"))\n",
    "\n",
    "\n",
    "def linearSearch(number_To_Searched):\n",
    "    index = 0\n",
    "    amount = 0\n",
    "    while index < len(arrayData):\n",
    "        if arrayData[index] == number_To_Searched:\n",
    "            amount = amount + 1\n",
    "            print(index, number_To_Searched, amount)\n",
    "        index = index + 1\n",
    "\n",
    "    if index > len(arrayData) - 1 and amount == 0:\n",
    "        return print(number_To_Searched, \"NOT FOUND\")\n",
    "    else:\n",
    "        return print(number_To_Searched, \"is Found\", amount, \"of time\")\n",
    "\n",
    "\n",
    "linearSearch(find)"
   ]
  },
  {
   "cell_type": "code",
   "execution_count": 17,
   "metadata": {},
   "outputs": [
    {
     "name": "stdout",
     "output_type": "stream",
     "text": [
      "[38, 26, 58, 0, 86, 62, 32, 38, 78, 80, 16, 30, 0, 96, 72, 44, 12, 70, 76, 92] 3 12 \n"
     ]
    }
   ],
   "source": [
    "import random\n",
    "\n",
    "arr = [random.randrange(0, 100, 2) for x in range(20)]\n",
    "\n",
    "\n",
    "amount = \"\"\n",
    "for i in range(len(arr)):\n",
    "    if arr[i] >= 0 and arr[i] <= 10:\n",
    "        arr[i] = 0\n",
    "        amount = amount + str(i) + \" \"\n",
    "\n",
    "print(arr, amount)"
   ]
  },
  {
   "cell_type": "markdown",
   "metadata": {},
   "source": [
    "**BINARY SEARCH WITH USER INPUT**\n"
   ]
  },
  {
   "cell_type": "code",
   "execution_count": 29,
   "metadata": {},
   "outputs": [
    {
     "name": "stdout",
     "output_type": "stream",
     "text": [
      "50 mid\n",
      "75 mid\n",
      "88 mid\n",
      "94 mid\n",
      "97 mid\n",
      "99 mid\n",
      "100 mid\n",
      "100 result\n",
      "Element Found At index 100\n"
     ]
    }
   ],
   "source": [
    "array = []\n",
    "for i in range(101):\n",
    "    array.append(i)\n",
    "\n",
    "# print(array)\n",
    "\n",
    "lenght = len(array)\n",
    "\n",
    "# num = int(input(\"Number to be Found\"))\n",
    "\n",
    "\n",
    "def binarySearch(x, arr):\n",
    "    min = 0\n",
    "    mid = -1\n",
    "    high = len(arr)\n",
    "\n",
    "    if x in array:\n",
    "        while min <= high:\n",
    "            # print(min,\"min\")\n",
    "            # print(high,\"high\")\n",
    "            mid = (high + min) // 2\n",
    "            print(mid, \"mid\")\n",
    "            if arr[mid] == x:\n",
    "                return mid\n",
    "            if arr[mid] > x:\n",
    "                high = mid\n",
    "            elif arr[mid] < x:\n",
    "                min = mid\n",
    "\n",
    "        return mid\n",
    "    else:\n",
    "        return -1\n",
    "\n",
    "\n",
    "num = int(input(\"enter number for search\"))\n",
    "\n",
    "result = binarySearch(num, array)\n",
    "print(result, \"result\")\n",
    "if result == -1:\n",
    "    print(\"Element Is not Present\")\n",
    "else:\n",
    "    print(\"Element Found At index\", result)"
   ]
  },
  {
   "cell_type": "markdown",
   "metadata": {},
   "source": [
    "**BUBBLE SORT Program**\n"
   ]
  },
  {
   "cell_type": "code",
   "execution_count": 7,
   "metadata": {},
   "outputs": [
    {
     "name": "stdout",
     "output_type": "stream",
     "text": [
      "[3, 2, 5, 1, 6]\n",
      "[2, 3, 1, 5, 6]\n",
      "[2, 1, 3, 5, 6]\n",
      "[1, 2, 3, 5, 6]\n",
      "[1, 2, 3, 5, 6]\n"
     ]
    }
   ],
   "source": [
    "def sorting(array):\n",
    "    limit = len(array) - 1\n",
    "    swapped = False\n",
    "\n",
    "    for i in range(limit):\n",
    "        for j in range(0, limit - i):\n",
    "            if array[j] > array[j + 1]:\n",
    "                swapped = True\n",
    "                array[j], array[j + 1] = array[j + 1], array[j]\n",
    "        print(array)\n",
    "\n",
    "        if not swapped:\n",
    "            return\n",
    "\n",
    "    return\n",
    "\n",
    "\n",
    "Element = [5, 3, 2, 6, 1]\n",
    "# Element = [1, 2, 3, 4, 5, 6, 7, 8, 9, 10, 11, 12, 13, 14]\n",
    "sorting(Element)\n",
    "print(Element)\n",
    "\n",
    "\n",
    "# num = int(input(\"enter number for search\"))\n",
    "\n",
    "# result = binarySearch(num, Element)\n",
    "# print(result, \"result\")\n",
    "# if result == -1:\n",
    "#     print(\"Element Is not Present\")\n",
    "# else:\n",
    "#     print('Element Found At index', result)"
   ]
  },
  {
   "cell_type": "markdown",
   "metadata": {},
   "source": [
    "**Switch Case and Reverse the String**\n"
   ]
  },
  {
   "cell_type": "code",
   "execution_count": 56,
   "metadata": {},
   "outputs": [
    {
     "name": "stdout",
     "output_type": "stream",
     "text": [
      "CoDInG IS NOT PRoBlEm\n"
     ]
    }
   ],
   "source": [
    "def reverse_string_and_switch_case(string):\n",
    "    newString = \"\"\n",
    "    for i in range(len(string)):\n",
    "        char = str(string[i])\n",
    "        lower = char.lower()\n",
    "        upper = char.upper()\n",
    "\n",
    "        if char.isupper():\n",
    "            newString = newString + lower\n",
    "        else:\n",
    "            newString = newString + upper\n",
    "\n",
    "    nString = newString.split(\" \")\n",
<<<<<<< HEAD
    "    nString[0], nString[len(nString) -\n",
    "                        1] = nString[len(nString) - 1], nString[0]\n",
    "    listToStr = \" \".join([str(elem) for elem in nString])\n",
=======
    "    nString[0], nString[len(nString)-1] = nString[len(nString)-1], nString[0]\n",
    "    listToStr = ' '.join([str(elem) for elem in nString])\n",
>>>>>>> 11398c9865dba370c98991df9ba6813b88db09d8
    "\n",
    "    return listToStr\n",
    "\n",
    "\n",
    "sentence = input(\"Input The Sentence\")\n",
    "print(reverse_string_and_switch_case(sentence))"
   ]
  },
  {
   "cell_type": "markdown",
   "metadata": {},
   "source": [
    "**Insertion sort**\n",
    "\n",
<<<<<<< HEAD
    "The insertionSort function takes an array arr as input. It first calculates the length of the array (n). If the length is 0 or 1, the function returns immediately as an array with 0 or 1 element is considered already sorted.\n",
    "\n",
    "For arrays with more than one element, the function proceeds to iterate over the array starting from the second element. It takes the current element (referred to as the “key”) and compares it with the elements in the sorted portion of the array that precede it. If the key is smaller than an element in the sorted portion, the function shifts that element to the right, creating space for the key. This process continues until the correct position for the key is found, and it is then inserted in that position.\n"
=======
    "\n",
    "\n",
    "The insertionSort function takes an array arr as input. It first calculates the length of the array (n). If the length is 0 or 1, the function returns immediately as an array with 0 or 1 element is considered already sorted.\n",
    "\n",
    "For arrays with more than one element, the function proceeds to iterate over the array starting from the second element. It takes the current element (referred to as the “key”) and compares it with the elements in the sorted portion of the array that precede it. If the key is smaller than an element in the sorted portion, the function shifts that element to the right, creating space for the key. This process continues until the correct position for the key is found, and it is then inserted in that position."
>>>>>>> 11398c9865dba370c98991df9ba6813b88db09d8
   ]
  },
  {
   "cell_type": "code",
   "execution_count": 23,
   "metadata": {},
   "outputs": [
    {
     "name": "stdout",
     "output_type": "stream",
     "text": [
      "[1]\n"
     ]
    }
   ],
   "source": [
<<<<<<< HEAD
=======
    "\n",
>>>>>>> 11398c9865dba370c98991df9ba6813b88db09d8
    "def insertion(arr):\n",
    "    limit = len(arr)\n",
    "    if limit <= 1:\n",
    "        return\n",
    "    for i in range(limit):\n",
    "        value = arr[i]\n",
<<<<<<< HEAD
    "        j = i - 1\n",
    "        while j >= 0 and value < arr[j]:\n",
    "            arr[j + 1] = arr[j]\n",
    "            j -= 1\n",
    "        arr[j + 1] = value\n",
=======
    "        j = i-1\n",
    "        while j >= 0 and value < arr[j]:\n",
    "            arr[j+1] = arr[j]\n",
    "            j -= 1\n",
    "        arr[j+1] = value\n",
>>>>>>> 11398c9865dba370c98991df9ba6813b88db09d8
    "\n",
    "\n",
    "Element = [6, 5, 4, 2, 3, 1]\n",
    "insertion(Element)\n",
    "print(Element)"
   ]
  },
  {
   "cell_type": "markdown",
   "metadata": {},
   "source": [
<<<<<<< HEAD
    "Stack Concept in Python\n"
=======
    "Stack Concept in Python"
>>>>>>> 11398c9865dba370c98991df9ba6813b88db09d8
   ]
  },
  {
   "cell_type": "code",
<<<<<<< HEAD
   "execution_count": 1,
=======
   "execution_count": 36,
>>>>>>> 11398c9865dba370c98991df9ba6813b88db09d8
   "metadata": {},
   "outputs": [
    {
     "name": "stdout",
     "output_type": "stream",
     "text": [
      "['1234']\n",
<<<<<<< HEAD
      "['1234', '1234']\n",
      "['1234']\n"
=======
      "[]\n"
>>>>>>> 11398c9865dba370c98991df9ba6813b88db09d8
     ]
    }
   ],
   "source": [
    "global arr\n",
    "arr = []\n",
    "\n",
    "\n",
    "def pop(array):\n",
    "    index = len(array)\n",
    "    if index == 0:\n",
    "        return print(\"Array does not contain any value\")\n",
    "    del array[index - 1]\n",
    "\n",
    "\n",
    "def push(string, array):\n",
<<<<<<< HEAD
    "    if string == \" \":\n",
=======
    "    if string == ' ':\n",
>>>>>>> 11398c9865dba370c98991df9ba6813b88db09d8
    "        return print(\"String is required\")\n",
    "    array = array + [string]\n",
    "    return array\n",
    "\n",
    "\n",
<<<<<<< HEAD
    "want_to_stop = \"no\"\n",
    "\n",
    "while want_to_stop.lower() == \"no\":\n",
=======
    "want_to_stop = 'no'\n",
    "\n",
    "while want_to_stop.lower() == 'no':\n",
>>>>>>> 11398c9865dba370c98991df9ba6813b88db09d8
    "    choice = input(\"Enter your choice, 'Push' or 'Pop\")\n",
    "    if choice.lower() == \"pop\":\n",
    "        pop(arr)\n",
    "        print(arr)\n",
<<<<<<< HEAD
=======
    "        choice = input(\"Enter your choice, 'Push' or 'Pop\")\n",
>>>>>>> 11398c9865dba370c98991df9ba6813b88db09d8
    "    elif choice.lower() == \"push\":\n",
    "        data = input(\"enter value to be pushed in array\")\n",
    "        arr = push(data, arr)\n",
    "        print(arr)\n",
    "    want_to_stop = input(\"Want to stop,'Yes' or 'No'\")"
   ]
<<<<<<< HEAD
  },
  {
   "cell_type": "markdown",
   "metadata": {},
   "source": [
    "**QUEUE CONCEPT**\n"
   ]
  },
  {
   "cell_type": "code",
   "execution_count": 3,
   "metadata": {},
   "outputs": [
    {
     "name": "stdout",
     "output_type": "stream",
     "text": [
      "['123'] Array\n",
      "['123', '456'] Array\n",
      "['123', '456', '789'] Array\n",
      "['123', '456', '789', '000'] Array\n",
      "['456', '789', '000'] Array\n",
      "['789', '000'] Array\n",
      "['000'] Array\n"
     ]
    }
   ],
   "source": [
    "global array\n",
    "array = []\n",
    "\n",
    "\n",
    "want_to_stop = \"no\"\n",
    "\n",
    "while want_to_stop.lower() == \"no\":\n",
    "    choice = input(\"Enter your choice, 'Push' or 'Pop\")\n",
    "    if choice == \"push\":\n",
    "        letter = input(\"Enter the letter\")\n",
    "        array = array + [letter]\n",
    "    else:\n",
    "        del array[0]\n",
    "    want_to_stop = input(\"Do you want to stop 'Yes'or 'No' \")\n",
    "    print(array, \"Array\")"
   ]
  },
  {
   "cell_type": "markdown",
   "metadata": {},
   "source": [
    "**Random array generation of lenght ten; bubble sort, binary Search and Linear Search**\n"
   ]
  },
  {
   "cell_type": "code",
   "execution_count": 61,
   "metadata": {},
   "outputs": [
    {
     "name": "stdout",
     "output_type": "stream",
     "text": [
      "[1, 3, 4, 5, 6, 7, 7, 8, 8, 9, 10, 11, 13, 14, 14, 15, 15, 17, 18, 19, 19, 21, 23, 24, 25, 28, 30, 30, 31, 32, 32, 33, 33, 37, 39, 40, 40, 42, 42, 42, 42, 44, 44, 44, 45, 46, 49, 49, 52, 54, 57, 57, 58, 59, 59, 61, 61, 62, 63, 63, 69, 69, 70, 72, 72, 72, 75, 76, 76, 77, 78, 79, 80, 80, 80, 80, 80, 81, 81, 87, 88, 88, 88, 90, 91, 91, 91, 92, 92, 95, 97, 98, 100, 100, 101, 101, 102, 102, 103, 103, 103, 106, 107, 108, 109, 109, 109, 111, 111, 112, 112, 113, 113, 114, 114, 115, 116, 116, 118, 118, 119, 122, 124, 126, 126, 126, 126, 127, 128, 129, 130, 131, 131, 132, 132, 133, 135, 135, 135, 138, 141, 141, 142, 142, 143, 144, 146, 147, 147, 149, 149, 149, 150, 150, 151, 153, 153, 154, 155, 156, 157, 158, 158, 160, 161, 162, 163, 166, 167, 167, 167, 168, 170, 171, 172, 173, 174, 176, 177, 180, 180, 181, 181, 181, 182, 183, 183, 185, 185, 188, 191, 192, 192, 194, 194, 195, 196, 197, 197, 197, 199, 202, 204, 205, 205, 206, 207, 207, 208, 209, 214, 214, 215, 216, 218, 219, 220, 221, 221, 222, 222, 223, 224, 226, 231, 231, 231, 232, 232, 234, 234, 236, 237, 238, 238, 240, 240, 240, 240, 241, 242, 242, 243, 244, 246, 247, 248, 249, 249, 249, 250, 253, 255, 255, 256, 256, 257, 259, 259, 259, 261, 261, 262, 262, 263, 263, 264, 264, 265, 266, 270, 271, 272, 274, 275, 277, 277, 278, 279, 282, 284, 285, 285, 285, 287, 287, 289, 291, 292, 292, 292, 293, 293, 294, 296, 296, 297, 298, 299, 300, 300, 300, 301, 301, 302, 303, 303, 303, 304, 305, 305, 310, 311, 311, 314, 316, 319, 321, 322, 323, 324, 325, 325, 325, 326, 326, 327, 329, 330, 330, 331, 331, 332, 333, 333, 334, 337, 337, 337, 340, 340, 340, 341, 341, 342, 342, 342, 343, 343, 343, 345, 350, 351, 352, 353, 353, 355, 355, 356, 358, 359, 361, 361, 361, 361, 363, 365, 367, 367, 368, 369, 369, 371, 371, 371, 371, 372, 372, 372, 372, 374, 374, 375, 377, 379, 379, 380, 380, 382, 382, 382, 382, 384, 385, 386, 386, 386, 387, 390, 391, 394, 394, 395, 396, 398, 399, 399, 402, 403, 405, 405, 406, 407, 408, 408, 409, 411, 414, 415, 416, 418, 418, 418, 419, 419, 421, 421, 421, 421, 421, 423, 424, 424, 425, 426, 426, 426, 428, 429, 432, 433, 433, 436, 436, 438, 441, 441, 446, 446, 447, 448, 448, 449, 449, 449, 450, 450, 452, 454, 457, 459, 461, 463, 465, 466, 467, 468, 469, 469, 472, 473, 473, 473, 475, 475, 477, 477, 477, 478, 479, 480, 480, 481, 481, 484, 486, 486, 488, 488, 489, 491, 491, 492, 494, 494, 495, 498, 498, 498, 498, 499]\n"
     ]
    }
   ],
   "source": [
    "import random\n",
    "\n",
    "arr = [random.randrange(1, 501, 1) for i in range(501)]\n",
    "\n",
    "\n",
    "def sorting(array):\n",
    "    limit = len(array) - 1\n",
    "    swapped = False\n",
    "    for i in range(limit):\n",
    "        for j in range(limit - i):\n",
    "            if array[j] > array[j + 1]:\n",
    "                swapped = True\n",
    "                array[j], array[j + 1] = array[j + 1], array[j]\n",
    "        if not swapped:\n",
    "            return\n",
    "    return array\n",
    "\n",
    "\n",
    "arr = sorted(arr)\n",
    "print(arr)"
   ]
  },
  {
   "cell_type": "code",
   "execution_count": 64,
   "metadata": {},
   "outputs": [
    {
     "name": "stdout",
     "output_type": "stream",
     "text": [
      "496 True\n"
     ]
    }
   ],
   "source": [
    "def linearSearch(array, numberSearch):\n",
    "    lenght = len(array) - 1\n",
    "    index = 0\n",
    "    numberFound = False\n",
    "    while index < lenght and numberFound == False:\n",
    "        if array[index] == numberSearch:\n",
    "            numberFound = True\n",
    "            print(index, True)\n",
    "        elif array[index] != numberSearch:\n",
    "            index = index + 1\n",
    "    if numberFound == False and index == lenght:\n",
    "        print(\"number not found\")\n",
    "\n",
    "number = 498\n",
    "linearSearch(arr, number)"
   ]
  },
  {
   "cell_type": "code",
   "execution_count": 65,
   "metadata": {},
   "outputs": [
    {
     "name": "stdout",
     "output_type": "stream",
     "text": [
      "250 mid\n",
      "375 mid\n",
      "438 mid\n",
      "469 mid\n",
      "485 mid\n",
      "493 mid\n",
      "497 mid\n",
      "497 result\n",
      "Element Found At index 497\n"
     ]
    }
   ],
   "source": [
    "def BinarySearch(number,array):\n",
    "    min = 0\n",
    "    mid = -1\n",
    "    high = len(array)\n",
    "\n",
    "    for i in range(len(array)):\n",
    "        while min <= high:\n",
    "            mid = (high + min) // 2\n",
    "            print(mid,\"mid\")\n",
    "            if arr[mid] == number:\n",
    "                return mid\n",
    "            if arr[mid] > number:\n",
    "                high = mid\n",
    "            elif arr[mid] < number:\n",
    "                min = mid\n",
    "\n",
    "        return mid\n",
    "    else:\n",
    "        return -1\n",
    "    \n",
    "    \n",
    "num = 498\n",
    "result = BinarySearch(num, arr)\n",
    "print(result, \"result\")\n",
    "if result == -1:\n",
    "    print(\"Element Is not Present\")\n",
    "else:\n",
    "    print(\"Element Found At index\", result)   "
   ]
=======
>>>>>>> 11398c9865dba370c98991df9ba6813b88db09d8
  }
 ],
 "metadata": {
  "kernelspec": {
   "display_name": "Python 3",
   "language": "python",
   "name": "python3"
  },
  "language_info": {
   "codemirror_mode": {
    "name": "ipython",
    "version": 3
   },
   "file_extension": ".py",
   "mimetype": "text/x-python",
   "name": "python",
   "nbconvert_exporter": "python",
   "pygments_lexer": "ipython3",
   "version": "3.12.0"
  }
 },
 "nbformat": 4,
 "nbformat_minor": 2
}
