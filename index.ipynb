{
 "cells": [
  {
   "cell_type": "markdown",
   "metadata": {},
   "source": [
    "**Generate Five Number And Print the product of first three and ratio of last two**"
   ]
  },
  {
   "cell_type": "code",
   "execution_count": 14,
   "metadata": {},
   "outputs": [
    {
     "name": "stdout",
     "output_type": "stream",
     "text": [
      "52\n",
      "12\n",
      "66\n",
      "21\n",
      "43\n",
      "The product of the first three numbers is: 41184\n",
      "The Ratio of the Last two numbers is: 0.4883720930232558\n"
     ]
    }
   ],
   "source": [
    "import random\n",
    "\n",
    "# arr = [0,0,0,0,0]\n",
    "\n",
    "# for i in range(len(arr)):\n",
    "#     a = random.randint(1, 100)\n",
    "#     arr[i] = a \n",
    "\n",
    "product = 1\n",
    "ratio = 1\n",
    "\n",
    "for k in range(5):\n",
    "    num = random.randint(1, 100)\n",
    "    print(num)\n",
    "    if k < 3:\n",
    "       product = product * num\n",
    "    else:\n",
    "        if k == 3:\n",
    "         ratio = num\n",
    "        else:\n",
    "          ratio = ratio / num\n",
    "\n",
    "# for j in range(len(arr)):\n",
    "#     if j < 3:\n",
    "#         product = product * arr[j]\n",
    "#     else:\n",
    "#         if j == 3:\n",
    "#          ratio = arr[j]\n",
    "#         else:\n",
    "#           ratio = ratio / arr[j]\n",
    "\n",
    "\n",
    "# print(\"Array Values\",arr)\n",
    "print(\"The product of the first three numbers is:\",product)\n",
    "print(\"The Ratio of the Last two numbers is:\",ratio)"
   ]
  },
  {
   "cell_type": "code",
   "execution_count": 15,
   "metadata": {},
   "outputs": [
    {
     "name": "stdout",
     "output_type": "stream",
     "text": [
      "Array Values [10, 89, 68, 61, 85]\n",
      "The product of the first three numbers is: 60520\n",
      "The Ratio of the Last two numbers is: 0.7176470588235294\n"
     ]
    }
   ],
   "source": [
    "import random\n",
    "\n",
    "arr = [0,0,0,0,0]\n",
    "\n",
    "for i in range(len(arr)):\n",
    "    a = random.randint(1, 100)\n",
    "    arr[i] = a \n",
    "\n",
    "product = 1\n",
    "ratio = 1\n",
    "\n",
    "\n",
    "for j in range(len(arr)):\n",
    "    if j < 3:\n",
    "        product = product * arr[j]\n",
    "    else:\n",
    "        if j == 3:\n",
    "         ratio = arr[j]\n",
    "        else:\n",
    "          ratio = ratio / arr[j]\n",
    "\n",
    "\n",
    "print(\"Array Values\",arr)\n",
    "print(\"The product of the first three numbers is:\",product)\n",
    "print(\"The Ratio of the Last two numbers is:\",ratio)"
   ]
  },
  {
   "cell_type": "markdown",
   "metadata": {},
   "source": [
    "**initilize a variable with hot and cold your program should print H A C  capatilize form**"
   ]
  },
  {
   "cell_type": "code",
   "execution_count": 16,
   "metadata": {},
   "outputs": [
    {
     "name": "stdout",
     "output_type": "stream",
     "text": [
      "['hot', 'and', 'cold']\n",
      "H\n",
      "A\n",
      "C\n"
     ]
    }
   ],
   "source": [
    "# Solution 1\n",
    "\n",
    "a = 'hot and cold'\n",
    "\n",
    "b = a.split(\" \")\n",
    "\n",
    "print(b)\n",
    " \n",
    "for i in range(len(b)):\n",
    "    print(b[i].capitalize()[0])"
   ]
  },
  {
   "cell_type": "code",
   "execution_count": 17,
   "metadata": {},
   "outputs": [
    {
     "name": "stdout",
     "output_type": "stream",
     "text": [
      "H A C \n"
     ]
    }
   ],
   "source": [
    "#  Solution Number 2\n",
    "\n",
    "a = 'hot and cold'\n",
    "b=''\n",
    "for i in range(len(a)):\n",
    "    if i == 0:\n",
    "        b = b + a[i].capitalize() + \" \"\n",
    "        # print(a[i].capitalize())\n",
    "    if a[i-1] == ' ':\n",
    "        b = b + a[i].capitalize()+ \" \"\n",
    "\n",
    "print(b)     "
   ]
  },
  {
   "cell_type": "markdown",
   "metadata": {},
   "source": [
    "Create This Pattern\n",
    "\n",
    "+++++\n",
    "++++\n",
    "+++\n",
    "++\n",
    "+"
   ]
  },
  {
   "cell_type": "code",
   "execution_count": 18,
   "metadata": {},
   "outputs": [
    {
     "name": "stdout",
     "output_type": "stream",
     "text": [
      "+++++\n",
      "++++\n",
      "+++\n",
      "++\n",
      "+\n"
     ]
    }
   ],
   "source": [
    "i = 5\n",
    "\n",
    "while i != 0 :\n",
    "    print(i*'+')\n",
    "    i = i -1     \n"
   ]
  },
  {
   "cell_type": "markdown",
   "metadata": {},
   "source": [
    "Ask The user to enter how many number you want enter then print the product of all "
   ]
  },
  {
   "cell_type": "code",
   "execution_count": 24,
   "metadata": {},
   "outputs": [
    {
     "name": "stdout",
     "output_type": "stream",
     "text": [
      "Product of All Numbers is 4\n"
     ]
    }
   ],
   "source": [
    "num = int(input(\"How many number you want to enter\"))\n",
    "product = 1\n",
    "for i in range(num):\n",
    "    number = int(input(\"Enter any Number\"))\n",
    "    product = product * number\n",
    "print(\"Product of All Numbers is\",product)"
   ]
  },
  {
   "cell_type": "markdown",
   "metadata": {},
   "source": [
    "**LINEAR Search And Replacement**"
   ]
  },
  {
   "cell_type": "code",
   "execution_count": 23,
   "metadata": {},
   "outputs": [
    {
     "name": "stdout",
     "output_type": "stream",
     "text": [
      "[10, 3, 7, 6, 5, 5, 10, 1, 8, 1]\n",
      "7 9 \n",
      "[10, 3, 7, 6, 5, 5, 10, 0, 8, 0]\n"
     ]
    }
   ],
   "source": [
    "import random\n",
    "\n",
    "a = [0 for x in range(10)]\n",
    "\n",
    "\n",
    "for i in range(len(a)) :\n",
    "    number = random.randint(1,10)\n",
    "    a[i] = number\n",
    "print(a)\n",
    "\n",
    "\n",
    "number = int(input(\"Wnat Number do you want to search for\"))\n",
    "number2 = int(input(\"Enter Number to be Replace with\"))\n",
    "\n",
    "# positions = []\n",
    "# for j in range(len(a)) : 22121\n",
    "\n",
    "#    if a[j] == number :\n",
    "#        positions.append(j)\n",
    "positions = ''\n",
    "for j in range(len(a)) :\n",
    "   if a[j] == number :\n",
    "       positions = positions + str(j) + ' '\n",
    "       a[j] = number2\n",
    "print(positions)\n",
    "\n",
    "print(a)  "
   ]
  }
 ],
 "metadata": {
  "kernelspec": {
   "display_name": "Python 3",
   "language": "python",
   "name": "python3"
  },
  "language_info": {
   "codemirror_mode": {
    "name": "ipython",
    "version": 3
   },
   "file_extension": ".py",
   "mimetype": "text/x-python",
   "name": "python",
   "nbconvert_exporter": "python",
   "pygments_lexer": "ipython3",
   "version": "3.12.0"
  }
 },
 "nbformat": 4,
 "nbformat_minor": 2
}
